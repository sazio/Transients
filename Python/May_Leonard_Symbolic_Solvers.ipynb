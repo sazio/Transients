{
  "nbformat": 4,
  "nbformat_minor": 0,
  "metadata": {
    "colab": {
      "name": "May_Leonard_Symbolic_Solvers.ipynb",
      "provenance": [],
      "authorship_tag": "ABX9TyPRQSpgL1Lv0Vte00M6/I5S",
      "include_colab_link": true
    },
    "kernelspec": {
      "name": "python3",
      "display_name": "Python 3"
    }
  },
  "cells": [
    {
      "cell_type": "markdown",
      "metadata": {
        "id": "view-in-github",
        "colab_type": "text"
      },
      "source": [
        "<a href=\"https://colab.research.google.com/github/sazio/Transients/blob/master/Python/May_Leonard_Symbolic_Solvers.ipynb\" target=\"_parent\"><img src=\"https://colab.research.google.com/assets/colab-badge.svg\" alt=\"Open In Colab\"/></a>"
      ]
    },
    {
      "cell_type": "code",
      "metadata": {
        "id": "4kNhk8bTKg-O"
      },
      "source": [
        "from sympy.solvers import solve\n",
        "from sympy import Symbol, pprint, init_printing, re, im, N, latex\n",
        "from sympy.abc import a,b\n",
        "from sympy.matrices import Matrix\n",
        "x = Symbol('x')\n",
        "init_printing()"
      ],
      "execution_count": 1,
      "outputs": []
    },
    {
      "cell_type": "code",
      "metadata": {
        "id": "7bAlT87_P2e6"
      },
      "source": [
        "# 2 species fixed points determinant \n",
        "two_points = (1-a*(1-a)/(1-a*b)-b*(1-b)/(1-a*b)-x)*((1-2*(1-a)/(1-a*b)-a*(1-b)/(1-a*b)-x)*(1-b*(1-a)/(1-a*b)-2*(1-b)/(1-a*b)-x)-a*b*((1-b)/(1-a*b))*((1-b)/(1-a*b)))\n",
        "sol_2 = solve(two_points,x)"
      ],
      "execution_count": 14,
      "outputs": []
    },
    {
      "cell_type": "code",
      "metadata": {
        "id": "nvpCC88PV3jN",
        "outputId": "d2bb4666-f813-4c1d-ee48-f87085a8b40a",
        "colab": {
          "base_uri": "https://localhost:8080/",
          "height": 37
        }
      },
      "source": [
        "sol_2[0].subs(a, 1.5).subs(b,0.5)"
      ],
      "execution_count": 19,
      "outputs": [
        {
          "output_type": "execute_result",
          "data": {
            "image/png": "[encoded data removed]",
            "text/latex": "$$3.0$$",
            "text/plain": [
              "3.00000000000000"
            ]
          },
          "metadata": {
            "tags": []
          },
          "execution_count": 19
        }
      ]
    },
    {
      "cell_type": "code",
      "metadata": {
        "id": "aZaCRgmaV3d7",
        "outputId": "4014539b-8503-48d1-dac7-7f15221f272a",
        "colab": {
          "base_uri": "https://localhost:8080/",
          "height": 37
        }
      },
      "source": [
        "sol_2[1].subs(a, 1.5).subs(b,0.5)"
      ],
      "execution_count": 15,
      "outputs": [
        {
          "output_type": "execute_result",
          "data": {
            "image/png": "[encoded data removed]",
            "text/latex": "$$-2.64575131106459$$",
            "text/plain": [
              "-2.64575131106459"
            ]
          },
          "metadata": {
            "tags": []
          },
          "execution_count": 15
        }
      ]
    },
    {
      "cell_type": "code",
      "metadata": {
        "id": "eY_MruBAYVpb",
        "outputId": "af12c36a-5b52-467c-ac63-8ddfcc2ff97a",
        "colab": {
          "base_uri": "https://localhost:8080/",
          "height": 37
        }
      },
      "source": [
        "sol_2[2].subs(a, 1.5).subs(b,0.5)"
      ],
      "execution_count": 18,
      "outputs": [
        {
          "output_type": "execute_result",
          "data": {
            "image/png": "[encoded data removed]",
            "text/latex": "$$2.64575131106459$$",
            "text/plain": [
              "2.64575131106459"
            ]
          },
          "metadata": {
            "tags": []
          },
          "execution_count": 18
        }
      ]
    },
    {
      "cell_type": "code",
      "metadata": {
        "id": "1vlemaM0KrhE"
      },
      "source": [
        "three_matrix = Matrix([[1-2/(a+b+1)-a/(a+b+1)-b/(a+b+1) - x, -a/(a+b+1) ,-b/(a+b+1) ],\n",
        "                       [-b/(a+b+1), 1-2/(a+b+1) -b/(a+b+1) -a/(a+b+1) - x,-a/(a+b+1)],\n",
        "                       [-a/(a+b+1), -b/(a+b+1), 1-2/(a+b+1) -a/(a+b+1) -b/(a+b+1) -x]])\n",
        "\n",
        "three_points = three_matrix.det()"
      ],
      "execution_count": 20,
      "outputs": []
    },
    {
      "cell_type": "code",
      "metadata": {
        "id": "KLr7tKefQ5kz",
        "outputId": "2a641d1f-bf96-4a78-c20c-5eaaa14832ec",
        "colab": {
          "base_uri": "https://localhost:8080/",
          "height": 47
        }
      },
      "source": [
        "sol_3 = solve(three_points, x)\n",
        "sol_3"
      ],
      "execution_count": 21,
      "outputs": [
        {
          "output_type": "execute_result",
          "data": {
            "image/png": "[encoded data removed]",
            "text/latex": "$$\\left [ -1, \\quad - \\frac{- a + \\sqrt{3} i a - b - \\sqrt{3} i b + 2}{2 a + 2 b + 2}, \\quad \\frac{a + \\sqrt{3} i a + b - \\sqrt{3} i b - 2}{2 a + 2 b + 2}\\right ]$$",
            "text/plain": [
              "⎡    -(-a + √3⋅ⅈ⋅a - b - √3⋅ⅈ⋅b + 2)   a + √3⋅ⅈ⋅a + b - √3⋅ⅈ⋅b - 2⎤\n",
              "⎢-1, ────────────────────────────────, ───────────────────────────⎥\n",
              "⎣             2⋅a + 2⋅b + 2                   2⋅a + 2⋅b + 2       ⎦"
            ]
          },
          "metadata": {
            "tags": []
          },
          "execution_count": 21
        }
      ]
    },
    {
      "cell_type": "code",
      "metadata": {
        "id": "_i2G7cHgYnuB",
        "outputId": "aabe8385-4322-4d55-e637-ae838c483ea8",
        "colab": {
          "base_uri": "https://localhost:8080/",
          "height": 35
        }
      },
      "source": [
        "latex(sol_3[2])"
      ],
      "execution_count": 28,
      "outputs": [
        {
          "output_type": "execute_result",
          "data": {
            "application/vnd.google.colaboratory.intrinsic+json": {
              "type": "string"
            },
            "text/plain": [
              "'\\\\frac{a + \\\\sqrt{3} i a + b - \\\\sqrt{3} i b - 2}{2 a + 2 b + 2}'"
            ]
          },
          "metadata": {
            "tags": []
          },
          "execution_count": 28
        }
      ]
    },
    {
      "cell_type": "code",
      "metadata": {
        "id": "GCJ3rUzNUf11",
        "outputId": "829b4b12-dc1d-444b-e6e8-cd334dad232c",
        "colab": {
          "base_uri": "https://localhost:8080/",
          "height": 37
        }
      },
      "source": [
        "sol_3[0]"
      ],
      "execution_count": 22,
      "outputs": [
        {
          "output_type": "execute_result",
          "data": {
            "image/png": "[encoded data removed]",
            "text/latex": "$$-1$$",
            "text/plain": [
              "-1"
            ]
          },
          "metadata": {
            "tags": []
          },
          "execution_count": 22
        }
      ]
    },
    {
      "cell_type": "code",
      "metadata": {
        "id": "dLgmoEw9UkD4",
        "outputId": "a2fa36e7-a825-4940-c018-73c103737f38",
        "colab": {
          "base_uri": "https://localhost:8080/",
          "height": 42
        }
      },
      "source": [
        "sol_3[1]"
      ],
      "execution_count": 23,
      "outputs": [
        {
          "output_type": "execute_result",
          "data": {
            "image/png": "[encoded data removed]",
            "text/latex": "$$- \\frac{- a + \\sqrt{3} i a - b - \\sqrt{3} i b + 2}{2 a + 2 b + 2}$$",
            "text/plain": [
              "-(-a + √3⋅ⅈ⋅a - b - √3⋅ⅈ⋅b + 2) \n",
              "────────────────────────────────\n",
              "         2⋅a + 2⋅b + 2          "
            ]
          },
          "metadata": {
            "tags": []
          },
          "execution_count": 23
        }
      ]
    },
    {
      "cell_type": "code",
      "metadata": {
        "id": "7IrYftZ0RIGQ",
        "outputId": "2d356d6c-6547-48ac-9068-2a111f97413e",
        "colab": {
          "base_uri": "https://localhost:8080/",
          "height": 37
        }
      },
      "source": [
        "re(sol_3[0].subs(a, 1.5).subs(b,0.6))"
      ],
      "execution_count": 24,
      "outputs": [
        {
          "output_type": "execute_result",
          "data": {
            "image/png": "[encoded data removed]",
            "text/latex": "$$-1$$",
            "text/plain": [
              "-1"
            ]
          },
          "metadata": {
            "tags": []
          },
          "execution_count": 24
        }
      ]
    },
    {
      "cell_type": "code",
      "metadata": {
        "id": "D7ueN9KaSSPu",
        "outputId": "4cf8819d-6862-4830-ca15-f6c6e744bf3d",
        "colab": {
          "base_uri": "https://localhost:8080/",
          "height": 37
        }
      },
      "source": [
        "N(re(sol_3[1].subs(a, 1.5).subs(b,0.6)))"
      ],
      "execution_count": 33,
      "outputs": [
        {
          "output_type": "execute_result",
          "data": {
            "image/png": "[encoded data removed]",
            "text/latex": "$$0.0161290322580645$$",
            "text/plain": [
              "0.0161290322580645"
            ]
          },
          "metadata": {
            "tags": []
          },
          "execution_count": 33
        }
      ]
    },
    {
      "cell_type": "code",
      "metadata": {
        "id": "VvDmqFKzSSWM",
        "outputId": "30028b8f-9af1-46d8-df01-c8bca33dee2f",
        "colab": {
          "base_uri": "https://localhost:8080/",
          "height": 37
        }
      },
      "source": [
        "N(re(sol_3[2].subs(a, 1.5).subs(b,0.6)))"
      ],
      "execution_count": 34,
      "outputs": [
        {
          "output_type": "execute_result",
          "data": {
            "image/png": "[encoded data removed]",
            "text/latex": "$$0.0161290322580645$$",
            "text/plain": [
              "0.0161290322580645"
            ]
          },
          "metadata": {
            "tags": []
          },
          "execution_count": 34
        }
      ]
    },
    {
      "cell_type": "code",
      "metadata": {
        "id": "xRABqtppVfzI"
      },
      "source": [
        ""
      ],
      "execution_count": null,
      "outputs": []
    }
  ]
}