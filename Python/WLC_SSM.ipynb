{
  "nbformat": 4,
  "nbformat_minor": 0,
  "metadata": {
    "colab": {
      "name": "WLC_SSM.ipynb",
      "provenance": [],
      "include_colab_link": true
    },
    "kernelspec": {
      "name": "python3",
      "display_name": "Python 3"
    },
    "widgets": {
      "application/vnd.jupyter.widget-state+json": {
        "221d8872ecad4845a740966d82e496ed": {
          "model_module": "@jupyter-widgets/controls",
          "model_name": "HBoxModel",
          "state": {
            "_view_name": "HBoxView",
            "_dom_classes": [],
            "_model_name": "HBoxModel",
            "_view_module": "@jupyter-widgets/controls",
            "_model_module_version": "1.5.0",
            "_view_count": null,
            "_view_module_version": "1.5.0",
            "box_style": "",
            "layout": "IPY_MODEL_6afa61075e7e4f4f9bd4e6a56c9bca94",
            "_model_module": "@jupyter-widgets/controls",
            "children": [
              "IPY_MODEL_98bdde71b21a464c8f05d5005510b900",
              "IPY_MODEL_0e0bc3c5c5fe4680a3987a51b18a5974"
            ]
          }
        },
        "6afa61075e7e4f4f9bd4e6a56c9bca94": {
          "model_module": "@jupyter-widgets/base",
          "model_name": "LayoutModel",
          "state": {
            "_view_name": "LayoutView",
            "grid_template_rows": null,
            "right": null,
            "justify_content": null,
            "_view_module": "@jupyter-widgets/base",
            "overflow": null,
            "_model_module_version": "1.2.0",
            "_view_count": null,
            "flex_flow": null,
            "width": null,
            "min_width": null,
            "border": null,
            "align_items": null,
            "bottom": null,
            "_model_module": "@jupyter-widgets/base",
            "top": null,
            "grid_column": null,
            "overflow_y": null,
            "overflow_x": null,
            "grid_auto_flow": null,
            "grid_area": null,
            "grid_template_columns": null,
            "flex": null,
            "_model_name": "LayoutModel",
            "justify_items": null,
            "grid_row": null,
            "max_height": null,
            "align_content": null,
            "visibility": null,
            "align_self": null,
            "height": null,
            "min_height": null,
            "padding": null,
            "grid_auto_rows": null,
            "grid_gap": null,
            "max_width": null,
            "order": null,
            "_view_module_version": "1.2.0",
            "grid_template_areas": null,
            "object_position": null,
            "object_fit": null,
            "grid_auto_columns": null,
            "margin": null,
            "display": null,
            "left": null
          }
        },
        "98bdde71b21a464c8f05d5005510b900": {
          "model_module": "@jupyter-widgets/controls",
          "model_name": "FloatProgressModel",
          "state": {
            "_view_name": "ProgressView",
            "style": "IPY_MODEL_88a2cae4ba344262b4d1561f448049ad",
            "_dom_classes": [],
            "description": " 97%",
            "_model_name": "FloatProgressModel",
            "bar_style": "",
            "max": 1499,
            "_view_module": "@jupyter-widgets/controls",
            "_model_module_version": "1.5.0",
            "value": 1453,
            "_view_count": null,
            "_view_module_version": "1.5.0",
            "orientation": "horizontal",
            "min": 0,
            "description_tooltip": null,
            "_model_module": "@jupyter-widgets/controls",
            "layout": "IPY_MODEL_8a0febc242804450827de4d505e0c3df"
          }
        },
        "0e0bc3c5c5fe4680a3987a51b18a5974": {
          "model_module": "@jupyter-widgets/controls",
          "model_name": "HTMLModel",
          "state": {
            "_view_name": "HTMLView",
            "style": "IPY_MODEL_32a35b96e2b64fa487a903aad28d0eea",
            "_dom_classes": [],
            "description": "",
            "_model_name": "HTMLModel",
            "placeholder": "​",
            "_view_module": "@jupyter-widgets/controls",
            "_model_module_version": "1.5.0",
            "value": " 1453/1499 [02:03&lt;00:03, 11.53it/s]",
            "_view_count": null,
            "_view_module_version": "1.5.0",
            "description_tooltip": null,
            "_model_module": "@jupyter-widgets/controls",
            "layout": "IPY_MODEL_045ec3b117c1438396ba8d8ce277adef"
          }
        },
        "88a2cae4ba344262b4d1561f448049ad": {
          "model_module": "@jupyter-widgets/controls",
          "model_name": "ProgressStyleModel",
          "state": {
            "_view_name": "StyleView",
            "_model_name": "ProgressStyleModel",
            "description_width": "initial",
            "_view_module": "@jupyter-widgets/base",
            "_model_module_version": "1.5.0",
            "_view_count": null,
            "_view_module_version": "1.2.0",
            "bar_color": null,
            "_model_module": "@jupyter-widgets/controls"
          }
        },
        "8a0febc242804450827de4d505e0c3df": {
          "model_module": "@jupyter-widgets/base",
          "model_name": "LayoutModel",
          "state": {
            "_view_name": "LayoutView",
            "grid_template_rows": null,
            "right": null,
            "justify_content": null,
            "_view_module": "@jupyter-widgets/base",
            "overflow": null,
            "_model_module_version": "1.2.0",
            "_view_count": null,
            "flex_flow": null,
            "width": null,
            "min_width": null,
            "border": null,
            "align_items": null,
            "bottom": null,
            "_model_module": "@jupyter-widgets/base",
            "top": null,
            "grid_column": null,
            "overflow_y": null,
            "overflow_x": null,
            "grid_auto_flow": null,
            "grid_area": null,
            "grid_template_columns": null,
            "flex": null,
            "_model_name": "LayoutModel",
            "justify_items": null,
            "grid_row": null,
            "max_height": null,
            "align_content": null,
            "visibility": null,
            "align_self": null,
            "height": null,
            "min_height": null,
            "padding": null,
            "grid_auto_rows": null,
            "grid_gap": null,
            "max_width": null,
            "order": null,
            "_view_module_version": "1.2.0",
            "grid_template_areas": null,
            "object_position": null,
            "object_fit": null,
            "grid_auto_columns": null,
            "margin": null,
            "display": null,
            "left": null
          }
        },
        "32a35b96e2b64fa487a903aad28d0eea": {
          "model_module": "@jupyter-widgets/controls",
          "model_name": "DescriptionStyleModel",
          "state": {
            "_view_name": "StyleView",
            "_model_name": "DescriptionStyleModel",
            "description_width": "",
            "_view_module": "@jupyter-widgets/base",
            "_model_module_version": "1.5.0",
            "_view_count": null,
            "_view_module_version": "1.2.0",
            "_model_module": "@jupyter-widgets/controls"
          }
        },
        "045ec3b117c1438396ba8d8ce277adef": {
          "model_module": "@jupyter-widgets/base",
          "model_name": "LayoutModel",
          "state": {
            "_view_name": "LayoutView",
            "grid_template_rows": null,
            "right": null,
            "justify_content": null,
            "_view_module": "@jupyter-widgets/base",
            "overflow": null,
            "_model_module_version": "1.2.0",
            "_view_count": null,
            "flex_flow": null,
            "width": null,
            "min_width": null,
            "border": null,
            "align_items": null,
            "bottom": null,
            "_model_module": "@jupyter-widgets/base",
            "top": null,
            "grid_column": null,
            "overflow_y": null,
            "overflow_x": null,
            "grid_auto_flow": null,
            "grid_area": null,
            "grid_template_columns": null,
            "flex": null,
            "_model_name": "LayoutModel",
            "justify_items": null,
            "grid_row": null,
            "max_height": null,
            "align_content": null,
            "visibility": null,
            "align_self": null,
            "height": null,
            "min_height": null,
            "padding": null,
            "grid_auto_rows": null,
            "grid_gap": null,
            "max_width": null,
            "order": null,
            "_view_module_version": "1.2.0",
            "grid_template_areas": null,
            "object_position": null,
            "object_fit": null,
            "grid_auto_columns": null,
            "margin": null,
            "display": null,
            "left": null
          }
        }
      }
    }
  },
  "cells": [
    {
      "cell_type": "markdown",
      "metadata": {
        "id": "view-in-github",
        "colab_type": "text"
      },
      "source": [
        "<a href=\"https://colab.research.google.com/github/sazio/Transients/blob/master/Python/WLC_SSM.ipynb\" target=\"_parent\"><img src=\"https://colab.research.google.com/assets/colab-badge.svg\" alt=\"Open In Colab\"/></a>"
      ]
    },
    {
      "cell_type": "code",
      "metadata": {
        "id": "ODwLrg3cwgEA"
      },
      "source": [
        "import numpy as np\n",
        "from tqdm.notebook import tqdm \n",
        "import matplotlib.pyplot as plt\n",
        "\n",
        "import warnings\n",
        "warnings.filterwarnings('ignore')"
      ],
      "execution_count": 36,
      "outputs": []
    },
    {
      "cell_type": "code",
      "metadata": {
        "id": "xdhQn8Vezkvj"
      },
      "source": [
        "# Simulation's Parameters \n",
        "N_s = 576 # x_i with i in [1,...,N_s]\n",
        "N_p = 4 # a_i with i in [1,...,N_p]\n",
        "alpha = 1\n",
        "beta = 2.5\n",
        "V_1 = 0.9\n",
        "eps = 0.01\n",
        "sigma = 0.0001\n",
        "tau = 5 # delay in competition matrix\n",
        "V_0 = 5 "
      ],
      "execution_count": 14,
      "outputs": []
    },
    {
      "cell_type": "code",
      "metadata": {
        "id": "89KoM9_6dsNg"
      },
      "source": [
        "t = np.linspace(0, 3, num = 1500) # time steps \n",
        "# adding some noise to principal neurons initialization\n",
        "a = np.asarray([np.ones(N_p) + np.random.normal(0,0.01, N_p) for i in range(0,len(t))]) # principal neurons \n",
        "#a = np.asarray([np.ones(N_p) for i in range(0,len(t))]) # principal neurons "
      ],
      "execution_count": 92,
      "outputs": []
    },
    {
      "cell_type": "code",
      "metadata": {
        "id": "ja6oARH2dsj4"
      },
      "source": [
        "# Generating binary patterns \n",
        "np.random.seed(137)\n",
        "num_patterns = 2\n",
        "patterns = [np.random.randint(0,2,N_s) for i in range(num_patterns)]"
      ],
      "execution_count": 93,
      "outputs": []
    },
    {
      "cell_type": "code",
      "metadata": {
        "id": "z4TgGGYOjfZg"
      },
      "source": [
        "pattern_1 = [0,0,0,0,0,1,1,1,1,1,1,1,1,1,1,1,1,1,1,0,0,0,0,0,\n",
        "             0,0,0,0,0,1,1,1,1,1,1,1,1,1,1,1,1,1,1,0,0,0,0,0,\n",
        "             0,0,0,0,0,1,1,1,1,1,1,1,1,1,1,1,1,1,1,0,0,0,0,0,\n",
        "             0,0,0,0,0,1,1,1,1,1,1,1,1,1,1,1,1,1,1,0,0,0,0,0,\n",
        "             0,0,0,0,0,1,1,1,1,1,1,1,1,1,1,1,1,1,1,0,0,0,0,0,\n",
        "             0,0,0,0,0,1,1,1,1,1,1,1,1,1,1,1,1,1,1,0,0,0,0,0,\n",
        "             0,0,0,0,0,1,1,1,1,1,1,1,1,1,1,1,1,1,1,0,0,0,0,0,\n",
        "             0,0,0,0,0,1,1,1,1,1,1,1,1,1,1,1,1,1,1,0,0,0,0,0,\n",
        "             0,0,0,0,0,1,1,1,1,1,1,0,0,1,1,1,1,1,1,0,0,0,0,0,\n",
        "             0,0,0,0,0,1,1,1,1,1,1,0,0,1,1,1,1,1,1,0,0,0,0,0,\n",
        "             0,0,0,0,0,1,1,1,1,1,1,0,0,1,1,1,1,1,1,0,0,0,0,0,\n",
        "             0,0,0,0,0,1,1,1,1,0,1,0,0,1,0,1,1,1,1,0,0,0,0,0,\n",
        "             0,0,0,0,0,1,1,1,1,0,0,0,0,0,0,1,1,1,1,0,0,0,0,0,\n",
        "             0,0,0,0,0,1,1,1,1,0,0,0,0,0,0,1,1,1,1,0,0,0,0,0,\n",
        "             0,0,0,0,0,1,1,1,1,1,0,0,0,0,1,1,1,1,1,0,0,0,0,0,\n",
        "             0,0,0,0,0,1,1,1,1,1,0,0,0,0,1,1,1,1,1,0,0,0,0,0,\n",
        "             0,0,0,0,0,1,1,1,1,1,1,1,1,1,1,1,1,1,1,0,0,0,0,0,\n",
        "             0,0,0,0,0,1,1,1,1,1,1,1,1,1,1,1,1,1,1,0,0,0,0,0,\n",
        "             0,0,0,0,0,1,1,1,1,1,1,1,1,1,1,1,1,1,1,0,0,0,0,0,\n",
        "             0,0,0,0,0,1,1,1,1,1,1,1,1,1,1,1,1,1,1,0,0,0,0,0,\n",
        "             0,0,0,0,0,1,1,1,1,1,1,1,1,1,1,1,1,1,1,0,0,0,0,0,\n",
        "             0,0,0,0,0,1,1,1,1,1,1,1,1,1,1,1,1,1,1,0,0,0,0,0,\n",
        "             0,0,0,0,0,1,1,1,1,1,1,1,1,1,1,1,1,1,1,0,0,0,0,0,\n",
        "             0,0,0,0,0,1,1,1,1,1,1,1,1,1,1,1,1,1,1,0,0,0,0,0]\n",
        "\n",
        "patterns.append(np.asarray(pattern_1))"
      ],
      "execution_count": 94,
      "outputs": []
    },
    {
      "cell_type": "code",
      "metadata": {
        "id": "nEvM31pmmzfK"
      },
      "source": [
        "time_each_pattern = len(t)//(num_patterns + 1)"
      ],
      "execution_count": 95,
      "outputs": []
    },
    {
      "cell_type": "code",
      "metadata": {
        "id": "zp7-nGUXelNp"
      },
      "source": [
        "x_0 = np.asarray([patterns[0] for i in range(0,time_each_pattern)]) # sensory neurons -- pattern 1 \n",
        "x_1 = np.asarray([patterns[1] for i in range(time_each_pattern, 2*time_each_pattern)]) # sensory neurons -- pattern 2\n",
        "x_2 = np.asarray([patterns[2] for i in range(2*time_each_pattern, len(t))]) # sensory neurons -- pattern 3\n",
        "\n",
        "x = np.vstack((x_0,x_1,x_2)) # sensory neurons -- all the patterns"
      ],
      "execution_count": 96,
      "outputs": []
    },
    {
      "cell_type": "code",
      "metadata": {
        "id": "5KSkZXB-091q"
      },
      "source": [
        "np.random.seed(137) # setting random seed  \n",
        "eta = np.random.normal(0,0.0001, (N_s,N_p)) # small perturbations for initial state\n",
        "P = np.asarray([np.ones((N_s,N_p)) + eta  for i in range(0,len(t))]) # get shape\n",
        "#P = np.moveaxis(P, 0, -1) # shape  == (588, 10, 1000)\n",
        "\n",
        "V = np.asarray([ V_0*np.ones((N_p, N_p)) - (V_0 - 1)*np.eye(N_p) for i in range(0, len(t))]) # competition matrix \n",
        "#V = np.moveaxis(V, 0, -1)\n",
        "\n",
        "xi_t = np.random.uniform(0, sigma, size=len(t)) # adding noise uniformly sampled [0,sigma]"
      ],
      "execution_count": 97,
      "outputs": []
    },
    {
      "cell_type": "code",
      "metadata": {
        "id": "NWO29WOmd6GV"
      },
      "source": [
        "def ODE_Int(a,x,t,P,V,xi_t,alpha = 1):\n",
        "  \"\"\"\n",
        "  To be implemented \n",
        "  beta = 2.5\n",
        "  V_1 = 0.9\n",
        "  eps = 0.01\n",
        "  \"\"\"\n",
        "\n",
        "  for n in tqdm(range(0,len(t)-1)):\n",
        "    for i in range(0, N_p):\n",
        "      a[n+1,i] = (a[n,i] -a[n,i]*np.matmul(V[n, i,:],a[n,:]) + alpha*a[n,i]*np.matmul(P[n,:,:].T[i,:], x[n,:]) + xi_t[n])*(t[n+1] - t[n]) \n",
        "      for j in range(0, N_s):\n",
        "        for k in range(0, N_p):\n",
        "          # Projection Matrix\n",
        "          P[n+1, j, i] = P[n, j, i] + eps*a[n, i]*(beta*x[n, j] -P[n,j,i])*(t[n+1] - t[n])\n",
        "          # Competition Matrix - Delay Differential Equation \n",
        "          if n-tau >= 0: \n",
        "            V[n+1,i, k] = V[n, i, k] + eps*a[n, i]*a[n-tau,k]*(V_1 - V[n, i, k])*(t[n+1] - t[n])\n",
        "          else:\n",
        "            V[n+1, i, k] = V[n, i, k] + eps*a[n, i]*(V_1 - V[n, i, k])*(t[n+1] - t[n])\n",
        "            #V[n+1, i, k] = V[n, i, k] + eps*a[n, i]*a[n, k]*(V_1 - V[n, i, k])*(t[n+1] - t[n])\n",
        "\n",
        "  return (a, P, V)"
      ],
      "execution_count": 98,
      "outputs": []
    },
    {
      "cell_type": "code",
      "metadata": {
        "id": "NBRnK46nUAfr"
      },
      "source": [
        "#SSM = np.vectorize(ODE_Int,otypes=[np.float],cache=False)"
      ],
      "execution_count": 99,
      "outputs": []
    },
    {
      "cell_type": "code",
      "metadata": {
        "id": "fcC4pOkYbhFi",
        "colab": {
          "base_uri": "https://localhost:8080/",
          "height": 49,
          "referenced_widgets": [
            "221d8872ecad4845a740966d82e496ed",
            "6afa61075e7e4f4f9bd4e6a56c9bca94",
            "98bdde71b21a464c8f05d5005510b900",
            "0e0bc3c5c5fe4680a3987a51b18a5974",
            "88a2cae4ba344262b4d1561f448049ad",
            "8a0febc242804450827de4d505e0c3df",
            "32a35b96e2b64fa487a903aad28d0eea",
            "045ec3b117c1438396ba8d8ce277adef"
          ]
        },
        "outputId": "32104441-4b4e-4965-da05-4399bf71e685"
      },
      "source": [
        "a_learn, P_learn, V_learn = ODE_Int(a,x,t,P,V,xi_t,alpha = 1)"
      ],
      "execution_count": null,
      "outputs": [
        {
          "output_type": "display_data",
          "data": {
            "application/vnd.jupyter.widget-view+json": {
              "model_id": "221d8872ecad4845a740966d82e496ed",
              "version_minor": 0,
              "version_major": 2
            },
            "text/plain": [
              "HBox(children=(FloatProgress(value=0.0, max=1499.0), HTML(value='')))"
            ]
          },
          "metadata": {
            "tags": []
          }
        }
      ]
    },
    {
      "cell_type": "code",
      "metadata": {
        "id": "SMGjnL66rFtK"
      },
      "source": [
        "a_retr, P_retr, V_retr = ODE_Int(a_learn, x, t, P_learn, V_learn, xi_t, alpha = 0)"
      ],
      "execution_count": null,
      "outputs": []
    },
    {
      "cell_type": "code",
      "metadata": {
        "id": "I47iz4V9KMlL",
        "outputId": "fedd0dcc-d6cc-41f6-c9ca-b23afbfeff30",
        "colab": {
          "base_uri": "https://localhost:8080/",
          "height": 540
        }
      },
      "source": [
        "# Plotting\n",
        "fig, ((ax1, ax2), (ax3, ax4)) = plt.subplots(2, 2, figsize = (15,8))\n",
        "fig.suptitle('Sharing x per column, y per row')\n",
        "ax1.plot(a_learn[:,0])\n",
        "ax1.grid(alpha = 0.5)\n",
        "ax2.plot(a_learn[:,1], 'tab:orange')\n",
        "ax2.grid(alpha = 0.5)\n",
        "ax3.plot(a_learn[:,2], 'tab:green')\n",
        "ax3.grid(alpha = 0.5)\n",
        "ax4.plot(a_learn[:,3],'tab:red')\n",
        "ax4.grid(alpha = 0.5)\n",
        "\n",
        "\n",
        "for ax in fig.get_axes():\n",
        "    ax.label_outer()"
      ],
      "execution_count": 91,
      "outputs": [
        {
          "output_type": "display_data",
          "data": {
            "image/png": "[encoded data removed]",
            "text/plain": [
              "<Figure size 1080x576 with 4 Axes>"
            ]
          },
          "metadata": {
            "tags": [],
            "needs_background": "light"
          }
        }
      ]
    }
  ]
}