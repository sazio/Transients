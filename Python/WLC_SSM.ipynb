{
  "nbformat": 4,
  "nbformat_minor": 0,
  "metadata": {
    "colab": {
      "name": "WLC_SSM.ipynb",
      "provenance": [],
      "include_colab_link": true
    },
    "kernelspec": {
      "name": "python3",
      "display_name": "Python 3"
    },
    "widgets": {
      "application/vnd.jupyter.widget-state+json": {
        "ae99cdc103b04c209a307d17d33a5760": {
          "model_module": "@jupyter-widgets/controls",
          "model_name": "HBoxModel",
          "state": {
            "_view_name": "HBoxView",
            "_dom_classes": [],
            "_model_name": "HBoxModel",
            "_view_module": "@jupyter-widgets/controls",
            "_model_module_version": "1.5.0",
            "_view_count": null,
            "_view_module_version": "1.5.0",
            "box_style": "",
            "layout": "IPY_MODEL_86093a8981c04c54addb75706310d1da",
            "_model_module": "@jupyter-widgets/controls",
            "children": [
              "IPY_MODEL_1b2e7af5de514a3f9ddda7d50fc19f5d",
              "IPY_MODEL_d5c3d06c0d814d0ba3f22ee1d9d31217"
            ]
          }
        },
        "86093a8981c04c54addb75706310d1da": {
          "model_module": "@jupyter-widgets/base",
          "model_name": "LayoutModel",
          "state": {
            "_view_name": "LayoutView",
            "grid_template_rows": null,
            "right": null,
            "justify_content": null,
            "_view_module": "@jupyter-widgets/base",
            "overflow": null,
            "_model_module_version": "1.2.0",
            "_view_count": null,
            "flex_flow": null,
            "width": null,
            "min_width": null,
            "border": null,
            "align_items": null,
            "bottom": null,
            "_model_module": "@jupyter-widgets/base",
            "top": null,
            "grid_column": null,
            "overflow_y": null,
            "overflow_x": null,
            "grid_auto_flow": null,
            "grid_area": null,
            "grid_template_columns": null,
            "flex": null,
            "_model_name": "LayoutModel",
            "justify_items": null,
            "grid_row": null,
            "max_height": null,
            "align_content": null,
            "visibility": null,
            "align_self": null,
            "height": null,
            "min_height": null,
            "padding": null,
            "grid_auto_rows": null,
            "grid_gap": null,
            "max_width": null,
            "order": null,
            "_view_module_version": "1.2.0",
            "grid_template_areas": null,
            "object_position": null,
            "object_fit": null,
            "grid_auto_columns": null,
            "margin": null,
            "display": null,
            "left": null
          }
        },
        "1b2e7af5de514a3f9ddda7d50fc19f5d": {
          "model_module": "@jupyter-widgets/controls",
          "model_name": "FloatProgressModel",
          "state": {
            "_view_name": "ProgressView",
            "style": "IPY_MODEL_a0d81fb3d6e5485bb615bf5abfb06339",
            "_dom_classes": [],
            "description": "100%",
            "_model_name": "FloatProgressModel",
            "bar_style": "success",
            "max": 4499,
            "_view_module": "@jupyter-widgets/controls",
            "_model_module_version": "1.5.0",
            "value": 4499,
            "_view_count": null,
            "_view_module_version": "1.5.0",
            "orientation": "horizontal",
            "min": 0,
            "description_tooltip": null,
            "_model_module": "@jupyter-widgets/controls",
            "layout": "IPY_MODEL_92391ca5de5e409881eaabeb70a6d89d"
          }
        },
        "d5c3d06c0d814d0ba3f22ee1d9d31217": {
          "model_module": "@jupyter-widgets/controls",
          "model_name": "HTMLModel",
          "state": {
            "_view_name": "HTMLView",
            "style": "IPY_MODEL_ecf5b4102020447a82c6515b1bb4a65d",
            "_dom_classes": [],
            "description": "",
            "_model_name": "HTMLModel",
            "placeholder": "​",
            "_view_module": "@jupyter-widgets/controls",
            "_model_module_version": "1.5.0",
            "value": " 4499/4499 [18:58&lt;00:00,  3.95it/s]",
            "_view_count": null,
            "_view_module_version": "1.5.0",
            "description_tooltip": null,
            "_model_module": "@jupyter-widgets/controls",
            "layout": "IPY_MODEL_2713abfbc47d4287a8b0549767645fb2"
          }
        },
        "a0d81fb3d6e5485bb615bf5abfb06339": {
          "model_module": "@jupyter-widgets/controls",
          "model_name": "ProgressStyleModel",
          "state": {
            "_view_name": "StyleView",
            "_model_name": "ProgressStyleModel",
            "description_width": "initial",
            "_view_module": "@jupyter-widgets/base",
            "_model_module_version": "1.5.0",
            "_view_count": null,
            "_view_module_version": "1.2.0",
            "bar_color": null,
            "_model_module": "@jupyter-widgets/controls"
          }
        },
        "92391ca5de5e409881eaabeb70a6d89d": {
          "model_module": "@jupyter-widgets/base",
          "model_name": "LayoutModel",
          "state": {
            "_view_name": "LayoutView",
            "grid_template_rows": null,
            "right": null,
            "justify_content": null,
            "_view_module": "@jupyter-widgets/base",
            "overflow": null,
            "_model_module_version": "1.2.0",
            "_view_count": null,
            "flex_flow": null,
            "width": null,
            "min_width": null,
            "border": null,
            "align_items": null,
            "bottom": null,
            "_model_module": "@jupyter-widgets/base",
            "top": null,
            "grid_column": null,
            "overflow_y": null,
            "overflow_x": null,
            "grid_auto_flow": null,
            "grid_area": null,
            "grid_template_columns": null,
            "flex": null,
            "_model_name": "LayoutModel",
            "justify_items": null,
            "grid_row": null,
            "max_height": null,
            "align_content": null,
            "visibility": null,
            "align_self": null,
            "height": null,
            "min_height": null,
            "padding": null,
            "grid_auto_rows": null,
            "grid_gap": null,
            "max_width": null,
            "order": null,
            "_view_module_version": "1.2.0",
            "grid_template_areas": null,
            "object_position": null,
            "object_fit": null,
            "grid_auto_columns": null,
            "margin": null,
            "display": null,
            "left": null
          }
        },
        "ecf5b4102020447a82c6515b1bb4a65d": {
          "model_module": "@jupyter-widgets/controls",
          "model_name": "DescriptionStyleModel",
          "state": {
            "_view_name": "StyleView",
            "_model_name": "DescriptionStyleModel",
            "description_width": "",
            "_view_module": "@jupyter-widgets/base",
            "_model_module_version": "1.5.0",
            "_view_count": null,
            "_view_module_version": "1.2.0",
            "_model_module": "@jupyter-widgets/controls"
          }
        },
        "2713abfbc47d4287a8b0549767645fb2": {
          "model_module": "@jupyter-widgets/base",
          "model_name": "LayoutModel",
          "state": {
            "_view_name": "LayoutView",
            "grid_template_rows": null,
            "right": null,
            "justify_content": null,
            "_view_module": "@jupyter-widgets/base",
            "overflow": null,
            "_model_module_version": "1.2.0",
            "_view_count": null,
            "flex_flow": null,
            "width": null,
            "min_width": null,
            "border": null,
            "align_items": null,
            "bottom": null,
            "_model_module": "@jupyter-widgets/base",
            "top": null,
            "grid_column": null,
            "overflow_y": null,
            "overflow_x": null,
            "grid_auto_flow": null,
            "grid_area": null,
            "grid_template_columns": null,
            "flex": null,
            "_model_name": "LayoutModel",
            "justify_items": null,
            "grid_row": null,
            "max_height": null,
            "align_content": null,
            "visibility": null,
            "align_self": null,
            "height": null,
            "min_height": null,
            "padding": null,
            "grid_auto_rows": null,
            "grid_gap": null,
            "max_width": null,
            "order": null,
            "_view_module_version": "1.2.0",
            "grid_template_areas": null,
            "object_position": null,
            "object_fit": null,
            "grid_auto_columns": null,
            "margin": null,
            "display": null,
            "left": null
          }
        }
      }
    }
  },
  "cells": [
    {
      "cell_type": "markdown",
      "metadata": {
        "id": "view-in-github",
        "colab_type": "text"
      },
      "source": [
        "<a href=\"https://colab.research.google.com/github/sazio/Transients/blob/master/Python/WLC_SSM.ipynb\" target=\"_parent\"><img src=\"https://colab.research.google.com/assets/colab-badge.svg\" alt=\"Open In Colab\"/></a>"
      ]
    },
    {
      "cell_type": "code",
      "metadata": {
        "id": "ODwLrg3cwgEA"
      },
      "source": [
        "import numpy as np\n",
        "from tqdm.notebook import tqdm \n",
        "import matplotlib.pyplot as plt\n",
        "\n",
        "import warnings\n",
        "warnings.filterwarnings('ignore')"
      ],
      "execution_count": 2,
      "outputs": []
    },
    {
      "cell_type": "code",
      "metadata": {
        "id": "xdhQn8Vezkvj"
      },
      "source": [
        "# Simulation's Parameters \n",
        "N_s = 576 # x_i with i in [1,...,N_s]\n",
        "N_p = 3 # a_i with i in [1,...,N_p]\n",
        "alpha = 1 #learning phase\n",
        "beta = 2.5\n",
        "V_1 = 0.9\n",
        "eps = 0.01\n",
        "sigma = 0.0001\n",
        "tau = 1 # delay in competition matrix\n",
        "V_0 = 2."
      ],
      "execution_count": 139,
      "outputs": []
    },
    {
      "cell_type": "code",
      "metadata": {
        "id": "89KoM9_6dsNg"
      },
      "source": [
        "t = np.linspace(0, 5, num = 4500) # time steps \n",
        "# adding some noise to principal neurons initialization\n",
        "#a = np.asarray([np.ones(N_p) + np.random.normal(0,0.001, N_p) for i in range(0,len(t))]) # principal neurons \n",
        "a = np.asarray([np.zeros(N_p) for i in range(0,len(t))]) # principal neurons "
      ],
      "execution_count": 175,
      "outputs": []
    },
    {
      "cell_type": "code",
      "metadata": {
        "id": "ja6oARH2dsj4"
      },
      "source": [
        "# Generating binary patterns \n",
        "# np.random.seed(137)\n",
        "\n",
        "# patterns = [np.random.randint(0,2,N_s) for i in range(num_patterns)]"
      ],
      "execution_count": 176,
      "outputs": []
    },
    {
      "cell_type": "code",
      "metadata": {
        "id": "z4TgGGYOjfZg"
      },
      "source": [
        "patterns = []\n",
        "\n",
        "pattern_1 = [0,0,0,0,0,1,1,1,1,1,1,1,1,1,1,1,1,1,1,0,0,0,0,0,\n",
        "             0,0,0,0,0,1,1,1,1,1,1,1,1,1,1,1,1,1,1,0,0,0,0,0,\n",
        "             0,0,0,0,0,1,1,1,1,1,1,1,1,1,1,1,1,1,1,0,0,0,0,0,\n",
        "             0,0,0,0,0,1,1,1,1,1,1,1,1,1,1,1,1,1,1,0,0,0,0,0,\n",
        "             0,0,0,0,0,1,1,1,1,1,1,1,1,1,1,1,1,1,1,0,0,0,0,0,\n",
        "             0,0,0,0,0,1,1,1,1,1,1,1,1,1,1,1,1,1,1,0,0,0,0,0,\n",
        "             0,0,0,0,0,1,1,1,1,1,1,1,1,1,1,1,1,1,1,0,0,0,0,0,\n",
        "             0,0,0,0,0,1,1,1,1,1,1,1,1,1,1,1,1,1,1,0,0,0,0,0,\n",
        "             0,0,0,0,0,1,1,1,1,1,1,0,0,1,1,1,1,1,1,0,0,0,0,0,\n",
        "             0,0,0,0,0,1,1,1,1,1,1,0,0,1,1,1,1,1,1,0,0,0,0,0,\n",
        "             0,0,0,0,0,1,1,1,1,1,1,0,0,1,1,1,1,1,1,0,0,0,0,0,\n",
        "             0,0,0,0,0,1,1,1,1,0,1,0,0,1,0,1,1,1,1,0,0,0,0,0,\n",
        "             0,0,0,0,0,1,1,1,1,0,0,0,0,0,0,1,1,1,1,0,0,0,0,0,\n",
        "             0,0,0,0,0,1,1,1,1,0,0,0,0,0,0,1,1,1,1,0,0,0,0,0,\n",
        "             0,0,0,0,0,1,1,1,1,1,0,0,0,0,1,1,1,1,1,0,0,0,0,0,\n",
        "             0,0,0,0,0,1,1,1,1,1,0,0,0,0,1,1,1,1,1,0,0,0,0,0,\n",
        "             0,0,0,0,0,1,1,1,1,1,1,1,1,1,1,1,1,1,1,0,0,0,0,0,\n",
        "             0,0,0,0,0,1,1,1,1,1,1,1,1,1,1,1,1,1,1,0,0,0,0,0,\n",
        "             0,0,0,0,0,1,1,1,1,1,1,1,1,1,1,1,1,1,1,0,0,0,0,0,\n",
        "             0,0,0,0,0,1,1,1,1,1,1,1,1,1,1,1,1,1,1,0,0,0,0,0,\n",
        "             0,0,0,0,0,1,1,1,1,1,1,1,1,1,1,1,1,1,1,0,0,0,0,0,\n",
        "             0,0,0,0,0,1,1,1,1,1,1,1,1,1,1,1,1,1,1,0,0,0,0,0,\n",
        "             0,0,0,0,0,1,1,1,1,1,1,1,1,1,1,1,1,1,1,0,0,0,0,0,\n",
        "             0,0,0,0,0,1,1,1,1,1,1,1,1,1,1,1,1,1,1,0,0,0,0,0]\n",
        "\n",
        "pattern_2 = [0,0,0,0,0,0,0,0,0,0,0,0,0,0,0,0,0,0,0,0,0,0,0,0,\n",
        "             0,0,0,0,0,0,0,0,0,0,0,0,0,0,0,0,0,0,0,0,0,0,0,0,\n",
        "             0,0,0,0,0,0,0,0,0,0,0,0,0,0,0,0,0,0,0,0,0,0,0,0,\n",
        "             0,0,0,0,0,0,0,0,0,0,0,0,0,0,0,0,0,0,0,0,0,0,0,0,\n",
        "             0,0,0,0,0,0,0,0,0,0,0,0,0,0,0,0,0,0,0,0,0,0,0,0,\n",
        "             0,0,0,0,0,0,0,0,0,0,0,0,0,0,0,0,0,0,0,0,0,0,0,0,\n",
        "             0,0,0,0,0,0,0,0,0,0,0,0,0,0,0,0,0,0,0,0,0,0,0,0,\n",
        "             0,0,0,0,0,0,0,0,0,0,0,0,0,0,0,0,0,0,0,0,0,0,0,0,\n",
        "             0,0,0,0,0,0,0,0,0,0,0,0,0,0,0,0,0,0,0,0,0,0,0,0,\n",
        "             0,0,0,0,0,0,0,0,0,0,0,0,0,0,0,0,0,0,0,0,0,0,0,0,\n",
        "             0,0,0,0,0,0,0,0,0,0,0,0,0,0,0,0,0,0,0,0,0,0,0,0,\n",
        "             0,0,0,0,0,0,0,0,0,0,0,0,0,0,0,0,0,0,0,0,0,0,0,0,\n",
        "             1,1,1,1,1,1,1,1,1,1,1,1,1,1,1,1,1,1,1,1,1,1,1,1,\n",
        "             1,1,1,1,1,1,1,1,1,1,1,1,1,1,1,1,1,1,1,1,1,1,1,1,\n",
        "             1,1,1,1,1,1,1,1,1,1,1,1,1,1,1,1,1,1,1,1,1,1,1,1,\n",
        "             1,1,1,1,1,1,1,1,1,1,1,1,1,1,1,1,1,1,1,1,1,1,1,1,\n",
        "             1,1,1,1,1,1,1,1,1,1,1,1,1,1,1,1,1,1,1,1,1,1,1,1,\n",
        "             1,1,1,1,1,1,1,1,1,1,1,1,1,1,1,1,1,1,1,1,1,1,1,1,\n",
        "             1,1,1,1,1,1,1,1,1,1,1,1,1,1,1,1,1,1,1,1,1,1,1,1,\n",
        "             1,1,1,1,1,1,1,1,1,1,1,1,1,1,1,1,1,1,1,1,1,1,1,1,\n",
        "             1,1,1,1,1,1,1,1,1,1,1,1,1,1,1,1,1,1,1,1,1,1,1,1,\n",
        "             1,1,1,1,1,1,1,1,1,1,1,1,1,1,1,1,1,1,1,1,1,1,1,1,\n",
        "             1,1,1,1,1,1,1,1,1,1,1,1,1,1,1,1,1,1,1,1,1,1,1,1,\n",
        "             1,1,1,1,1,1,1,1,1,1,1,1,1,1,1,1,1,1,1,1,1,1,1,1]\n",
        "\n",
        "pattern_3 = [0,0,0,0,0,0,0,0,0,0,0,0,0,0,0,0,0,0,0,0,0,0,0,1,\n",
        "             0,0,0,0,0,0,0,0,0,0,0,0,0,0,0,0,0,0,0,0,0,0,1,1,\n",
        "             0,0,0,0,0,0,0,0,0,0,0,0,0,0,0,0,0,0,0,0,0,1,1,1,\n",
        "             0,0,0,0,0,0,0,0,0,0,0,0,0,0,0,0,0,0,0,0,1,1,1,1,\n",
        "             0,0,0,0,0,0,0,0,0,0,0,0,0,0,0,0,0,0,0,1,1,1,1,1,\n",
        "             0,0,0,0,0,0,0,0,0,0,0,0,0,0,0,0,0,0,1,1,1,1,1,1,\n",
        "             0,0,0,0,0,0,0,0,0,0,0,0,0,0,0,0,0,1,1,1,1,1,1,1,\n",
        "             0,0,0,0,0,0,0,0,0,0,0,0,0,0,0,0,1,1,1,1,1,1,1,1,\n",
        "             0,0,0,0,0,0,0,0,0,0,0,0,0,0,0,1,1,1,1,1,1,1,1,1,\n",
        "             0,0,0,0,0,0,0,0,0,0,0,0,0,0,1,1,1,1,1,1,1,1,1,1,\n",
        "             0,0,0,0,0,0,0,0,0,0,0,0,0,1,1,1,1,1,1,1,1,1,1,1,\n",
        "             0,0,0,0,0,0,0,0,0,0,0,0,1,1,1,1,1,1,1,1,1,1,1,1,\n",
        "             0,0,0,0,0,0,0,0,0,0,0,1,1,1,1,1,1,1,1,1,1,1,1,1,\n",
        "             0,0,0,0,0,0,0,0,0,0,1,1,1,1,1,1,1,1,1,1,1,1,1,1,\n",
        "             0,0,0,0,0,0,0,0,0,1,1,1,1,1,1,1,1,1,1,1,1,1,1,1,\n",
        "             0,0,0,0,0,0,0,0,1,1,1,1,1,1,1,1,1,1,1,1,1,1,1,1,\n",
        "             0,0,0,0,0,0,0,1,1,1,1,1,1,1,1,1,1,1,1,1,1,1,1,1,\n",
        "             0,0,0,0,0,0,1,1,1,1,1,1,1,1,1,1,1,1,1,1,1,1,1,1,\n",
        "             0,0,0,0,0,1,1,1,1,1,1,1,1,1,1,1,1,1,1,1,1,1,1,1,\n",
        "             0,0,0,0,1,1,1,1,1,1,1,1,1,1,1,1,1,1,1,1,1,1,1,1,\n",
        "             0,0,0,1,1,1,1,1,1,1,1,1,1,1,1,1,1,1,1,1,1,1,1,1,\n",
        "             0,0,1,1,1,1,1,1,1,1,1,1,1,1,1,1,1,1,1,1,1,1,1,1,\n",
        "             0,1,1,1,1,1,1,1,1,1,1,1,1,1,1,1,1,1,1,1,1,1,1,1,\n",
        "             1,1,1,1,1,1,1,1,1,1,1,1,1,1,1,1,1,1,1,1,1,1,1,1]\n",
        "\n",
        "\n",
        "patterns.append(np.asarray(pattern_1))\n",
        "patterns.append(np.asarray(pattern_2))\n",
        "patterns.append(np.asarray(pattern_3))\n",
        "num_patterns = len(patterns) \n",
        "repetitions = 3"
      ],
      "execution_count": 177,
      "outputs": []
    },
    {
      "cell_type": "code",
      "metadata": {
        "id": "nEvM31pmmzfK",
        "colab": {
          "base_uri": "https://localhost:8080/"
        },
        "outputId": "709e5b3e-3555-47d9-c771-40916dca3e04"
      },
      "source": [
        "time_each_pattern = len(t)//(num_patterns*repetitions)\n",
        "print(time_each_pattern)\n",
        "print(time_each_pattern//10)"
      ],
      "execution_count": 178,
      "outputs": [
        {
          "output_type": "stream",
          "text": [
            "500\n",
            "50\n"
          ],
          "name": "stdout"
        }
      ]
    },
    {
      "cell_type": "code",
      "metadata": {
        "id": "zp7-nGUXelNp"
      },
      "source": [
        "x_0 = np.asarray([patterns[0] for i in range(0,time_each_pattern)]) # sensory neurons -- pattern 1 \n",
        "x_1 = np.asarray([patterns[1] for i in range(0,time_each_pattern)]) # sensory neurons -- pattern 2\n",
        "x_2 = np.asarray([patterns[2] for i in range(0,time_each_pattern)]) # sensory neurons -- pattern 3\n",
        "#x_int = np.asarray([np.zeros((N_s,N_s)) for i in range(0,time_each_pattern//10)])\n",
        "x = np.vstack((x_0,x_1,x_2, x_0,x_1,x_2, x_0,x_1,x_2)) # sensory neurons -- all the patterns"
      ],
      "execution_count": 179,
      "outputs": []
    },
    {
      "cell_type": "code",
      "metadata": {
        "colab": {
          "base_uri": "https://localhost:8080/"
        },
        "id": "EsEtgLYrnma6",
        "outputId": "af1c1918-fc65-4ba2-8a28-e128a226d2df"
      },
      "source": [
        "x.shape[0] == len(t)"
      ],
      "execution_count": 180,
      "outputs": [
        {
          "output_type": "execute_result",
          "data": {
            "text/plain": [
              "True"
            ]
          },
          "metadata": {
            "tags": []
          },
          "execution_count": 180
        }
      ]
    },
    {
      "cell_type": "code",
      "metadata": {
        "id": "5KSkZXB-091q"
      },
      "source": [
        "np.random.seed(137) # setting random seed  \n",
        "eta = np.random.normal(0,0.00001, (N_s,N_p)) # small perturbations for initial state\n",
        "P = np.asarray([np.ones((N_s,N_p)) + eta  for i in range(0,len(t))]) # projection matrix\n",
        "V = np.asarray([ V_0*np.ones((N_p, N_p)) - (V_0 - 1)*np.eye(N_p) for i in range(0, len(t))]) # competition matrix \n",
        "xi_t = np.random.uniform(0, sigma, size=len(t)) # adding noise uniformly sampled [0,sigma]"
      ],
      "execution_count": 181,
      "outputs": []
    },
    {
      "cell_type": "code",
      "metadata": {
        "id": "NWO29WOmd6GV"
      },
      "source": [
        "def ODE_Int(a,x,t,P,V,xi_t,alpha = 1, tau = 1):\n",
        "  \"\"\"\n",
        "  Euler Method for ODE Integration \n",
        "  \"\"\"\n",
        "\n",
        "  for n in tqdm(range(0,len(t)-1)):\n",
        "    for i in range(0, N_p):\n",
        "      #Principal Neurons Amplitudes\n",
        "      a[n+1,i] = a[n,i] + (a[n,i] - a[n,i]*np.matmul(V[n, i,:],a[n,:]) + alpha*a[n,i]*np.matmul(P[n,:,:].T[i,:], x[n,:]) + xi_t[n])*(t[n+1] - t[n])        \n",
        "      \n",
        "      for j in range(0, N_s):\n",
        "        # Projection Matrix\n",
        "        P[n+1, j, i] = P[n, j, i] + eps*a[n, i]*(beta*x[n, j] - P[n,j,i])*(t[n+1] - t[n])\n",
        "\n",
        "      for k in range(0,N_p):\n",
        "        # Competition Matrix - Delay Differential Equation \n",
        "        if n-tau >= 0: \n",
        "          if i!= k : \n",
        "            V[n+1,i, k] = V[n, i, k] + eps*a[n, i]*a[n-tau,k]*(V_1 - V[n, i, k])*(t[n+1] - t[n])\n",
        "          else:\n",
        "            V[n+1,i,k] = 1 \n",
        "        else:\n",
        "          if i!=k:\n",
        "            V[n+1, i, k] = V[n, i, k] #+ eps*a[n, i]*a[n, k]*(V_1 - V[n, i, k])*(t[n+1] - t[n])\n",
        "          else:\n",
        "            V[n+1,i,k] = 1 \n",
        "\n",
        "  return (a, P, V)"
      ],
      "execution_count": 182,
      "outputs": []
    },
    {
      "cell_type": "code",
      "metadata": {
        "id": "fcC4pOkYbhFi",
        "colab": {
          "base_uri": "https://localhost:8080/",
          "height": 66,
          "referenced_widgets": [
            "ae99cdc103b04c209a307d17d33a5760",
            "86093a8981c04c54addb75706310d1da",
            "1b2e7af5de514a3f9ddda7d50fc19f5d",
            "d5c3d06c0d814d0ba3f22ee1d9d31217",
            "a0d81fb3d6e5485bb615bf5abfb06339",
            "92391ca5de5e409881eaabeb70a6d89d",
            "ecf5b4102020447a82c6515b1bb4a65d",
            "2713abfbc47d4287a8b0549767645fb2"
          ]
        },
        "outputId": "56c39334-f792-4452-e597-7aa9dec47da0"
      },
      "source": [
        "a_learn, P_learn, V_learn = ODE_Int(a,x,t,P,V,xi_t,alpha = 1, tau = 2)"
      ],
      "execution_count": 183,
      "outputs": [
        {
          "output_type": "display_data",
          "data": {
            "application/vnd.jupyter.widget-view+json": {
              "model_id": "ae99cdc103b04c209a307d17d33a5760",
              "version_minor": 0,
              "version_major": 2
            },
            "text/plain": [
              "HBox(children=(FloatProgress(value=0.0, max=4499.0), HTML(value='')))"
            ]
          },
          "metadata": {
            "tags": []
          }
        },
        {
          "output_type": "stream",
          "text": [
            "\n"
          ],
          "name": "stdout"
        }
      ]
    },
    {
      "cell_type": "code",
      "metadata": {
        "id": "SMGjnL66rFtK"
      },
      "source": [
        "#a_retr, P_retr, V_retr = ODE_Int(a_learn, x, t, P_learn, V_learn, xi_t, alpha = 0)"
      ],
      "execution_count": 165,
      "outputs": []
    },
    {
      "cell_type": "code",
      "metadata": {
        "colab": {
          "base_uri": "https://localhost:8080/",
          "height": 540
        },
        "id": "I47iz4V9KMlL",
        "outputId": "ec180235-6a8c-4187-98cc-2e0d758d4008"
      },
      "source": [
        "# Plotting learning phase\n",
        "fig, ((ax1, ax2, ax3)) = plt.subplots(3, figsize = (15,8))\n",
        "fig.suptitle('Sharing x per column, y per row')\n",
        "ax1.plot(a_learn[:,0])\n",
        "ax1.grid(alpha = 0.5)\n",
        "ax2.plot(a_learn[:,1], 'tab:orange')\n",
        "ax2.grid(alpha = 0.5)\n",
        "ax3.plot(a_learn[:,2], 'tab:green')\n",
        "ax3.grid(alpha = 0.5)\n",
        "\n",
        "for ax in fig.get_axes():\n",
        "    ax.label_outer()"
      ],
      "execution_count": 184,
      "outputs": [
        {
          "output_type": "display_data",
          "data": {
            "image/png": "[encoded data removed]",
            "text/plain": [
              "<Figure size 1080x576 with 3 Axes>"
            ]
          },
          "metadata": {
            "tags": [],
            "needs_background": "light"
          }
        }
      ]
    },
    {
      "cell_type": "code",
      "metadata": {
        "id": "7z54Cs-Fc_Kz",
        "outputId": "62811be1-356c-4f54-c946-038d39526a55",
        "colab": {
          "base_uri": "https://localhost:8080/",
          "height": 483
        }
      },
      "source": [
        "plt.figure(figsize=(15,8))\n",
        "plt.plot(a_learn[:,1] - a_learn[:,0])\n",
        "plt.grid(alpha = 0.5)"
      ],
      "execution_count": 190,
      "outputs": [
        {
          "output_type": "display_data",
          "data": {
            "image/png": "[encoded data removed]",
            "text/plain": [
              "<Figure size 1080x576 with 1 Axes>"
            ]
          },
          "metadata": {
            "tags": [],
            "needs_background": "light"
          }
        }
      ]
    },
    {
      "cell_type": "code",
      "metadata": {
        "colab": {
          "base_uri": "https://localhost:8080/",
          "height": 513
        },
        "id": "A3sw8f68W4aL",
        "outputId": "4ade26ff-4ace-45f2-9da2-d328b3968fdf"
      },
      "source": [
        "plt.figure(figsize=(15,8))\n",
        "plt.title(\"Competition Matrix - Elements Evolution\")\n",
        "plt.xlabel(\"Time steps\")\n",
        "plt.ylabel(\"V_ij values\")\n",
        "plt.plot(V_learn[:,0,0])\n",
        "plt.plot(V_learn[:,1,0])\n",
        "plt.plot(V_learn[:,2,0])\n",
        "plt.plot(V_learn[:,1,1])\n",
        "plt.plot(V_learn[:,2,1])\n",
        "plt.plot(V_learn[:,0,2])\n",
        "plt.plot(V_learn[:,1,2])\n",
        "plt.plot(V_learn[:,2,2])\n",
        "plt.grid(alpha = 0.5)"
      ],
      "execution_count": 185,
      "outputs": [
        {
          "output_type": "display_data",
          "data": {
            "image/png": "[encoded data removed]",
            "text/plain": [
              "<Figure size 1080x576 with 1 Axes>"
            ]
          },
          "metadata": {
            "tags": [],
            "needs_background": "light"
          }
        }
      ]
    },
    {
      "cell_type": "code",
      "metadata": {
        "id": "yo8wMoQ7MPax"
      },
      "source": [
        "# Plotting - retrieval phase\n",
        "\"\"\"\n",
        "fig, ((ax1, ax2, ax3)) = plt.subplots(3, figsize = (15,8))\n",
        "fig.suptitle('Sharing x per column, y per row')\n",
        "ax1.plot(a_retr[:,0])\n",
        "ax1.grid(alpha = 0.5)\n",
        "ax2.plot(a_retr[:,1], 'tab:orange')\n",
        "ax2.grid(alpha = 0.5)\n",
        "ax3.plot(a_retr[:,2], 'tab:green')\n",
        "ax3.grid(alpha = 0.5)\n",
        "\n",
        "for ax in fig.get_axes():\n",
        "    ax.label_outer()\n",
        "\n",
        "\"\"\";"
      ],
      "execution_count": null,
      "outputs": []
    }
  ]
}