{
  "nbformat": 4,
  "nbformat_minor": 0,
  "metadata": {
    "colab": {
      "name": "WLC_SSM.ipynb",
      "provenance": [],
      "include_colab_link": true
    },
    "kernelspec": {
      "name": "python3",
      "display_name": "Python 3"
    },
    "widgets": {
      "application/vnd.jupyter.widget-state+json": {
        "47f63c56478f4cdaa0e3d5cc6c63e288": {
          "model_module": "@jupyter-widgets/controls",
          "model_name": "HBoxModel",
          "state": {
            "_view_name": "HBoxView",
            "_dom_classes": [],
            "_model_name": "HBoxModel",
            "_view_module": "@jupyter-widgets/controls",
            "_model_module_version": "1.5.0",
            "_view_count": null,
            "_view_module_version": "1.5.0",
            "box_style": "",
            "layout": "IPY_MODEL_79bd46be49b04d2d91eb6711dfc3867e",
            "_model_module": "@jupyter-widgets/controls",
            "children": [
              "IPY_MODEL_c9e189561d264476a4e0ab007fdecb71",
              "IPY_MODEL_a3b149083aa548b78f7196eaae60fd90"
            ]
          }
        },
        "79bd46be49b04d2d91eb6711dfc3867e": {
          "model_module": "@jupyter-widgets/base",
          "model_name": "LayoutModel",
          "state": {
            "_view_name": "LayoutView",
            "grid_template_rows": null,
            "right": null,
            "justify_content": null,
            "_view_module": "@jupyter-widgets/base",
            "overflow": null,
            "_model_module_version": "1.2.0",
            "_view_count": null,
            "flex_flow": null,
            "width": null,
            "min_width": null,
            "border": null,
            "align_items": null,
            "bottom": null,
            "_model_module": "@jupyter-widgets/base",
            "top": null,
            "grid_column": null,
            "overflow_y": null,
            "overflow_x": null,
            "grid_auto_flow": null,
            "grid_area": null,
            "grid_template_columns": null,
            "flex": null,
            "_model_name": "LayoutModel",
            "justify_items": null,
            "grid_row": null,
            "max_height": null,
            "align_content": null,
            "visibility": null,
            "align_self": null,
            "height": null,
            "min_height": null,
            "padding": null,
            "grid_auto_rows": null,
            "grid_gap": null,
            "max_width": null,
            "order": null,
            "_view_module_version": "1.2.0",
            "grid_template_areas": null,
            "object_position": null,
            "object_fit": null,
            "grid_auto_columns": null,
            "margin": null,
            "display": null,
            "left": null
          }
        },
        "c9e189561d264476a4e0ab007fdecb71": {
          "model_module": "@jupyter-widgets/controls",
          "model_name": "FloatProgressModel",
          "state": {
            "_view_name": "ProgressView",
            "style": "IPY_MODEL_79c5d469a3a94013986107fd08827a51",
            "_dom_classes": [],
            "description": "100%",
            "_model_name": "FloatProgressModel",
            "bar_style": "success",
            "max": 5999,
            "_view_module": "@jupyter-widgets/controls",
            "_model_module_version": "1.5.0",
            "value": 5999,
            "_view_count": null,
            "_view_module_version": "1.5.0",
            "orientation": "horizontal",
            "min": 0,
            "description_tooltip": null,
            "_model_module": "@jupyter-widgets/controls",
            "layout": "IPY_MODEL_eddcc2df230e4cb389d6deff82b5a26c"
          }
        },
        "a3b149083aa548b78f7196eaae60fd90": {
          "model_module": "@jupyter-widgets/controls",
          "model_name": "HTMLModel",
          "state": {
            "_view_name": "HTMLView",
            "style": "IPY_MODEL_0e1e06f079b2404baec16edc14d4cf6f",
            "_dom_classes": [],
            "description": "",
            "_model_name": "HTMLModel",
            "placeholder": "​",
            "_view_module": "@jupyter-widgets/controls",
            "_model_module_version": "1.5.0",
            "value": " 5999/5999 [06:28&lt;00:00, 15.45it/s]",
            "_view_count": null,
            "_view_module_version": "1.5.0",
            "description_tooltip": null,
            "_model_module": "@jupyter-widgets/controls",
            "layout": "IPY_MODEL_8a461412802148d59e91ecbe31cfe571"
          }
        },
        "79c5d469a3a94013986107fd08827a51": {
          "model_module": "@jupyter-widgets/controls",
          "model_name": "ProgressStyleModel",
          "state": {
            "_view_name": "StyleView",
            "_model_name": "ProgressStyleModel",
            "description_width": "initial",
            "_view_module": "@jupyter-widgets/base",
            "_model_module_version": "1.5.0",
            "_view_count": null,
            "_view_module_version": "1.2.0",
            "bar_color": null,
            "_model_module": "@jupyter-widgets/controls"
          }
        },
        "eddcc2df230e4cb389d6deff82b5a26c": {
          "model_module": "@jupyter-widgets/base",
          "model_name": "LayoutModel",
          "state": {
            "_view_name": "LayoutView",
            "grid_template_rows": null,
            "right": null,
            "justify_content": null,
            "_view_module": "@jupyter-widgets/base",
            "overflow": null,
            "_model_module_version": "1.2.0",
            "_view_count": null,
            "flex_flow": null,
            "width": null,
            "min_width": null,
            "border": null,
            "align_items": null,
            "bottom": null,
            "_model_module": "@jupyter-widgets/base",
            "top": null,
            "grid_column": null,
            "overflow_y": null,
            "overflow_x": null,
            "grid_auto_flow": null,
            "grid_area": null,
            "grid_template_columns": null,
            "flex": null,
            "_model_name": "LayoutModel",
            "justify_items": null,
            "grid_row": null,
            "max_height": null,
            "align_content": null,
            "visibility": null,
            "align_self": null,
            "height": null,
            "min_height": null,
            "padding": null,
            "grid_auto_rows": null,
            "grid_gap": null,
            "max_width": null,
            "order": null,
            "_view_module_version": "1.2.0",
            "grid_template_areas": null,
            "object_position": null,
            "object_fit": null,
            "grid_auto_columns": null,
            "margin": null,
            "display": null,
            "left": null
          }
        },
        "0e1e06f079b2404baec16edc14d4cf6f": {
          "model_module": "@jupyter-widgets/controls",
          "model_name": "DescriptionStyleModel",
          "state": {
            "_view_name": "StyleView",
            "_model_name": "DescriptionStyleModel",
            "description_width": "",
            "_view_module": "@jupyter-widgets/base",
            "_model_module_version": "1.5.0",
            "_view_count": null,
            "_view_module_version": "1.2.0",
            "_model_module": "@jupyter-widgets/controls"
          }
        },
        "8a461412802148d59e91ecbe31cfe571": {
          "model_module": "@jupyter-widgets/base",
          "model_name": "LayoutModel",
          "state": {
            "_view_name": "LayoutView",
            "grid_template_rows": null,
            "right": null,
            "justify_content": null,
            "_view_module": "@jupyter-widgets/base",
            "overflow": null,
            "_model_module_version": "1.2.0",
            "_view_count": null,
            "flex_flow": null,
            "width": null,
            "min_width": null,
            "border": null,
            "align_items": null,
            "bottom": null,
            "_model_module": "@jupyter-widgets/base",
            "top": null,
            "grid_column": null,
            "overflow_y": null,
            "overflow_x": null,
            "grid_auto_flow": null,
            "grid_area": null,
            "grid_template_columns": null,
            "flex": null,
            "_model_name": "LayoutModel",
            "justify_items": null,
            "grid_row": null,
            "max_height": null,
            "align_content": null,
            "visibility": null,
            "align_self": null,
            "height": null,
            "min_height": null,
            "padding": null,
            "grid_auto_rows": null,
            "grid_gap": null,
            "max_width": null,
            "order": null,
            "_view_module_version": "1.2.0",
            "grid_template_areas": null,
            "object_position": null,
            "object_fit": null,
            "grid_auto_columns": null,
            "margin": null,
            "display": null,
            "left": null
          }
        },
        "6fd7ab16c08e4477a1a1fec95d6c4298": {
          "model_module": "@jupyter-widgets/controls",
          "model_name": "HBoxModel",
          "state": {
            "_view_name": "HBoxView",
            "_dom_classes": [],
            "_model_name": "HBoxModel",
            "_view_module": "@jupyter-widgets/controls",
            "_model_module_version": "1.5.0",
            "_view_count": null,
            "_view_module_version": "1.5.0",
            "box_style": "",
            "layout": "IPY_MODEL_509570f6accb41e6922161bc45e4862a",
            "_model_module": "@jupyter-widgets/controls",
            "children": [
              "IPY_MODEL_932f274d57ca43c18189c4c3a51fccdf",
              "IPY_MODEL_ecc3ca7e98bf42f1ae9120ea50131c9a"
            ]
          }
        },
        "509570f6accb41e6922161bc45e4862a": {
          "model_module": "@jupyter-widgets/base",
          "model_name": "LayoutModel",
          "state": {
            "_view_name": "LayoutView",
            "grid_template_rows": null,
            "right": null,
            "justify_content": null,
            "_view_module": "@jupyter-widgets/base",
            "overflow": null,
            "_model_module_version": "1.2.0",
            "_view_count": null,
            "flex_flow": null,
            "width": null,
            "min_width": null,
            "border": null,
            "align_items": null,
            "bottom": null,
            "_model_module": "@jupyter-widgets/base",
            "top": null,
            "grid_column": null,
            "overflow_y": null,
            "overflow_x": null,
            "grid_auto_flow": null,
            "grid_area": null,
            "grid_template_columns": null,
            "flex": null,
            "_model_name": "LayoutModel",
            "justify_items": null,
            "grid_row": null,
            "max_height": null,
            "align_content": null,
            "visibility": null,
            "align_self": null,
            "height": null,
            "min_height": null,
            "padding": null,
            "grid_auto_rows": null,
            "grid_gap": null,
            "max_width": null,
            "order": null,
            "_view_module_version": "1.2.0",
            "grid_template_areas": null,
            "object_position": null,
            "object_fit": null,
            "grid_auto_columns": null,
            "margin": null,
            "display": null,
            "left": null
          }
        },
        "932f274d57ca43c18189c4c3a51fccdf": {
          "model_module": "@jupyter-widgets/controls",
          "model_name": "FloatProgressModel",
          "state": {
            "_view_name": "ProgressView",
            "style": "IPY_MODEL_230b9ed2791a47c0ae3358c65a8b304e",
            "_dom_classes": [],
            "description": "100%",
            "_model_name": "FloatProgressModel",
            "bar_style": "success",
            "max": 1499,
            "_view_module": "@jupyter-widgets/controls",
            "_model_module_version": "1.5.0",
            "value": 1499,
            "_view_count": null,
            "_view_module_version": "1.5.0",
            "orientation": "horizontal",
            "min": 0,
            "description_tooltip": null,
            "_model_module": "@jupyter-widgets/controls",
            "layout": "IPY_MODEL_4445e13b858544bf8b0671d8033ef12a"
          }
        },
        "ecc3ca7e98bf42f1ae9120ea50131c9a": {
          "model_module": "@jupyter-widgets/controls",
          "model_name": "HTMLModel",
          "state": {
            "_view_name": "HTMLView",
            "style": "IPY_MODEL_2f2793cfb59d4b18ac3bfdd3b9210e1b",
            "_dom_classes": [],
            "description": "",
            "_model_name": "HTMLModel",
            "placeholder": "​",
            "_view_module": "@jupyter-widgets/controls",
            "_model_module_version": "1.5.0",
            "value": " 1499/1499 [01:37&lt;00:00, 15.31it/s]",
            "_view_count": null,
            "_view_module_version": "1.5.0",
            "description_tooltip": null,
            "_model_module": "@jupyter-widgets/controls",
            "layout": "IPY_MODEL_fec2ae1668c8487a8961f788a080cf01"
          }
        },
        "230b9ed2791a47c0ae3358c65a8b304e": {
          "model_module": "@jupyter-widgets/controls",
          "model_name": "ProgressStyleModel",
          "state": {
            "_view_name": "StyleView",
            "_model_name": "ProgressStyleModel",
            "description_width": "initial",
            "_view_module": "@jupyter-widgets/base",
            "_model_module_version": "1.5.0",
            "_view_count": null,
            "_view_module_version": "1.2.0",
            "bar_color": null,
            "_model_module": "@jupyter-widgets/controls"
          }
        },
        "4445e13b858544bf8b0671d8033ef12a": {
          "model_module": "@jupyter-widgets/base",
          "model_name": "LayoutModel",
          "state": {
            "_view_name": "LayoutView",
            "grid_template_rows": null,
            "right": null,
            "justify_content": null,
            "_view_module": "@jupyter-widgets/base",
            "overflow": null,
            "_model_module_version": "1.2.0",
            "_view_count": null,
            "flex_flow": null,
            "width": null,
            "min_width": null,
            "border": null,
            "align_items": null,
            "bottom": null,
            "_model_module": "@jupyter-widgets/base",
            "top": null,
            "grid_column": null,
            "overflow_y": null,
            "overflow_x": null,
            "grid_auto_flow": null,
            "grid_area": null,
            "grid_template_columns": null,
            "flex": null,
            "_model_name": "LayoutModel",
            "justify_items": null,
            "grid_row": null,
            "max_height": null,
            "align_content": null,
            "visibility": null,
            "align_self": null,
            "height": null,
            "min_height": null,
            "padding": null,
            "grid_auto_rows": null,
            "grid_gap": null,
            "max_width": null,
            "order": null,
            "_view_module_version": "1.2.0",
            "grid_template_areas": null,
            "object_position": null,
            "object_fit": null,
            "grid_auto_columns": null,
            "margin": null,
            "display": null,
            "left": null
          }
        },
        "2f2793cfb59d4b18ac3bfdd3b9210e1b": {
          "model_module": "@jupyter-widgets/controls",
          "model_name": "DescriptionStyleModel",
          "state": {
            "_view_name": "StyleView",
            "_model_name": "DescriptionStyleModel",
            "description_width": "",
            "_view_module": "@jupyter-widgets/base",
            "_model_module_version": "1.5.0",
            "_view_count": null,
            "_view_module_version": "1.2.0",
            "_model_module": "@jupyter-widgets/controls"
          }
        },
        "fec2ae1668c8487a8961f788a080cf01": {
          "model_module": "@jupyter-widgets/base",
          "model_name": "LayoutModel",
          "state": {
            "_view_name": "LayoutView",
            "grid_template_rows": null,
            "right": null,
            "justify_content": null,
            "_view_module": "@jupyter-widgets/base",
            "overflow": null,
            "_model_module_version": "1.2.0",
            "_view_count": null,
            "flex_flow": null,
            "width": null,
            "min_width": null,
            "border": null,
            "align_items": null,
            "bottom": null,
            "_model_module": "@jupyter-widgets/base",
            "top": null,
            "grid_column": null,
            "overflow_y": null,
            "overflow_x": null,
            "grid_auto_flow": null,
            "grid_area": null,
            "grid_template_columns": null,
            "flex": null,
            "_model_name": "LayoutModel",
            "justify_items": null,
            "grid_row": null,
            "max_height": null,
            "align_content": null,
            "visibility": null,
            "align_self": null,
            "height": null,
            "min_height": null,
            "padding": null,
            "grid_auto_rows": null,
            "grid_gap": null,
            "max_width": null,
            "order": null,
            "_view_module_version": "1.2.0",
            "grid_template_areas": null,
            "object_position": null,
            "object_fit": null,
            "grid_auto_columns": null,
            "margin": null,
            "display": null,
            "left": null
          }
        }
      }
    }
  },
  "cells": [
    {
      "cell_type": "markdown",
      "metadata": {
        "id": "view-in-github",
        "colab_type": "text"
      },
      "source": [
        "<a href=\"https://colab.research.google.com/github/sazio/Transients/blob/master/Python/WLC_SSM.ipynb\" target=\"_parent\"><img src=\"https://colab.research.google.com/assets/colab-badge.svg\" alt=\"Open In Colab\"/></a>"
      ]
    },
    {
      "cell_type": "code",
      "metadata": {
        "id": "ODwLrg3cwgEA"
      },
      "source": [
        "import numpy as np\n",
        "from tqdm.notebook import tqdm \n",
        "import matplotlib.pyplot as plt\n",
        "\n",
        "import warnings\n",
        "warnings.filterwarnings('ignore')"
      ],
      "execution_count": 1,
      "outputs": []
    },
    {
      "cell_type": "code",
      "metadata": {
        "id": "xdhQn8Vezkvj"
      },
      "source": [
        "# Simulation's Parameters \n",
        "N_s = 576 # x_i with i in [1,...,N_s]\n",
        "N_p = 4 # a_i with i in [1,...,N_p]\n",
        "alpha = 1 #learning phase\n",
        "beta = 2.5\n",
        "V_1 = 0.9\n",
        "eps = 0.01\n",
        "sigma = 0.0001\n",
        "tau = 5 # delay in competition matrix\n",
        "V_0 = 2."
      ],
      "execution_count": 177,
      "outputs": []
    },
    {
      "cell_type": "code",
      "metadata": {
        "id": "89KoM9_6dsNg"
      },
      "source": [
        "t = np.linspace(0, 15, num = 6000) # time steps \n",
        "# adding some noise to principal neurons initialization\n",
        "#a = np.asarray([np.ones(N_p) + np.random.normal(0,0.001, N_p) for i in range(0,len(t))]) # principal neurons \n",
        "a = np.asarray([np.zeros(N_p) for i in range(0,len(t))]) # principal neurons "
      ],
      "execution_count": 178,
      "outputs": []
    },
    {
      "cell_type": "code",
      "metadata": {
        "id": "ja6oARH2dsj4"
      },
      "source": [
        "# Generating binary patterns \n",
        "np.random.seed(137)\n",
        "num_patterns = 2\n",
        "patterns = [np.random.randint(0,2,N_s) for i in range(num_patterns)]"
      ],
      "execution_count": 179,
      "outputs": []
    },
    {
      "cell_type": "code",
      "metadata": {
        "id": "z4TgGGYOjfZg"
      },
      "source": [
        "pattern_1 = [0,0,0,0,0,1,1,1,1,1,1,1,1,1,1,1,1,1,1,0,0,0,0,0,\n",
        "             0,0,0,0,0,1,1,1,1,1,1,1,1,1,1,1,1,1,1,0,0,0,0,0,\n",
        "             0,0,0,0,0,1,1,1,1,1,1,1,1,1,1,1,1,1,1,0,0,0,0,0,\n",
        "             0,0,0,0,0,1,1,1,1,1,1,1,1,1,1,1,1,1,1,0,0,0,0,0,\n",
        "             0,0,0,0,0,1,1,1,1,1,1,1,1,1,1,1,1,1,1,0,0,0,0,0,\n",
        "             0,0,0,0,0,1,1,1,1,1,1,1,1,1,1,1,1,1,1,0,0,0,0,0,\n",
        "             0,0,0,0,0,1,1,1,1,1,1,1,1,1,1,1,1,1,1,0,0,0,0,0,\n",
        "             0,0,0,0,0,1,1,1,1,1,1,1,1,1,1,1,1,1,1,0,0,0,0,0,\n",
        "             0,0,0,0,0,1,1,1,1,1,1,0,0,1,1,1,1,1,1,0,0,0,0,0,\n",
        "             0,0,0,0,0,1,1,1,1,1,1,0,0,1,1,1,1,1,1,0,0,0,0,0,\n",
        "             0,0,0,0,0,1,1,1,1,1,1,0,0,1,1,1,1,1,1,0,0,0,0,0,\n",
        "             0,0,0,0,0,1,1,1,1,0,1,0,0,1,0,1,1,1,1,0,0,0,0,0,\n",
        "             0,0,0,0,0,1,1,1,1,0,0,0,0,0,0,1,1,1,1,0,0,0,0,0,\n",
        "             0,0,0,0,0,1,1,1,1,0,0,0,0,0,0,1,1,1,1,0,0,0,0,0,\n",
        "             0,0,0,0,0,1,1,1,1,1,0,0,0,0,1,1,1,1,1,0,0,0,0,0,\n",
        "             0,0,0,0,0,1,1,1,1,1,0,0,0,0,1,1,1,1,1,0,0,0,0,0,\n",
        "             0,0,0,0,0,1,1,1,1,1,1,1,1,1,1,1,1,1,1,0,0,0,0,0,\n",
        "             0,0,0,0,0,1,1,1,1,1,1,1,1,1,1,1,1,1,1,0,0,0,0,0,\n",
        "             0,0,0,0,0,1,1,1,1,1,1,1,1,1,1,1,1,1,1,0,0,0,0,0,\n",
        "             0,0,0,0,0,1,1,1,1,1,1,1,1,1,1,1,1,1,1,0,0,0,0,0,\n",
        "             0,0,0,0,0,1,1,1,1,1,1,1,1,1,1,1,1,1,1,0,0,0,0,0,\n",
        "             0,0,0,0,0,1,1,1,1,1,1,1,1,1,1,1,1,1,1,0,0,0,0,0,\n",
        "             0,0,0,0,0,1,1,1,1,1,1,1,1,1,1,1,1,1,1,0,0,0,0,0,\n",
        "             0,0,0,0,0,1,1,1,1,1,1,1,1,1,1,1,1,1,1,0,0,0,0,0]\n",
        "\"\"\"\n",
        "pattern_2 = [0,0,0,0,0,0,0,0,0,0,0,0,0,0,0,0,0,0,0,0,0,0,0,0,\n",
        "             0,0,0,0,0,0,0,0,0,0,0,0,0,0,0,0,0,0,0,0,0,0,0,0,\n",
        "             0,0,0,0,0,0,0,0,0,0,0,0,0,0,0,0,0,0,0,0,0,0,0,0,\n",
        "             0,0,0,0,0,0,0,0,0,0,0,1,1,0,0,0,0,0,0,0,0,0,0,0,\n",
        "             0,0,0,0,0,0,0,0,1,1,0,1,1,0,1,1,0,0,0,0,0,0,0,0,\n",
        "             0,0,0,0,0,0,0,0,0,1,0,0,0,0,1,0,0,0,0,0,0,0,0,0,\n",
        "             0,0,0,0,0,0,0,0,0,0,0,0,0,0,0,0,0,0,0,0,0,0,0,0,\n",
        "             0,0,0,0,0,0,0,1,0,0,0,0,0,0,0,0,1,0,0,0,0,0,0,0,\n",
        "             0,0,0,0,0,0,0,1,0,0,0,0,0,0,0,0,1,0,0,0,0,0,0,0,\n",
        "             0,0,0,0,0,0,0,0,0,0,0,0,0,0,0,0,0,0,0,0,0,0,0,0,\n",
        "             0,0,0,0,0,0,0,0,0,0,0,0,0,0,0,0,0,0,0,0,0,0,0,0,\n",
        "             0,0,0,0,0,0,1,0,0,0,0,0,0,0,0,0,0,1,0,0,0,0,0,0,\n",
        "             0,0,0,0,0,0,1,0,0,0,0,0,0,0,0,0,0,1,0,0,0,0,0,0,\n",
        "             0,0,0,0,0,0,0,0,0,0,0,0,0,0,0,0,0,0,0,0,0,0,0,0,\n",
        "             0,0,0,0,0,0,0,0,0,0,0,0,0,0,0,0,0,0,0,0,0,0,0,0,\n",
        "             0,0,0,0,0,0,0,1,0,0,0,0,0,0,0,0,1,0,0,0,0,0,0,0,\n",
        "             0,0,0,0,0,0,0,1,0,0,0,0,0,0,0,0,1,0,0,0,0,0,0,0,\n",
        "             0,0,0,0,0,0,0,0,0,0,0,0,0,0,0,0,0,0,0,0,0,0,0,0,\n",
        "             0,0,0,0,0,0,0,0,1,1,0,0,0,0,1,1,0,0,0,0,0,0,0,0,\n",
        "             0,0,0,0,0,0,0,0,0,1,0,1,1,0,1,0,0,0,0,0,0,0,0,0,\n",
        "             0,0,0,0,0,0,0,0,0,0,0,1,1,0,0,0,0,0,0,0,0,0,0,0,\n",
        "             0,0,0,0,0,0,0,0,0,0,0,0,0,0,0,0,0,0,0,0,0,0,0,0,\n",
        "             0,0,0,0,0,0,0,0,0,0,0,0,0,0,0,0,0,0,0,0,0,0,0,0,\n",
        "             0,0,0,0,0,0,0,0,0,0,0,0,0,0,0,0,0,0,0,0,0,0,0,0,]\n",
        "\"\"\";\n",
        "\n",
        "patterns.append(np.asarray(pattern_1))\n",
        "#patterns.append(np.asarray(pattern_2))"
      ],
      "execution_count": 180,
      "outputs": []
    },
    {
      "cell_type": "code",
      "metadata": {
        "id": "nEvM31pmmzfK"
      },
      "source": [
        "time_each_pattern = len(t)//(num_patterns + 1)//2"
      ],
      "execution_count": 181,
      "outputs": []
    },
    {
      "cell_type": "code",
      "metadata": {
        "id": "zp7-nGUXelNp"
      },
      "source": [
        "x_0 = np.asarray([patterns[0] for i in range(0,time_each_pattern)]) # sensory neurons -- pattern 1 \n",
        "x_1 = np.asarray([patterns[1] for i in range(time_each_pattern, 2*time_each_pattern)]) # sensory neurons -- pattern 2\n",
        "x_2 = np.asarray([patterns[2] for i in range(2*time_each_pattern, 3*time_each_pattern)]) # sensory neurons -- pattern 3\n",
        "\n",
        "x = np.vstack((x_0,x_1,x_2,x_0,x_1,x_2)) # sensory neurons -- all the patterns"
      ],
      "execution_count": 182,
      "outputs": []
    },
    {
      "cell_type": "code",
      "metadata": {
        "id": "5KSkZXB-091q"
      },
      "source": [
        "np.random.seed(137) # setting random seed  \n",
        "eta = np.random.normal(0,0.0001, (N_s,N_p)) # small perturbations for initial state\n",
        "P = np.asarray([np.ones((N_s,N_p)) + eta  for i in range(0,len(t))]) # projection matrix\n",
        "V = np.asarray([ V_0*np.ones((N_p, N_p)) - (V_0 - 1)*np.eye(N_p) for i in range(0, len(t))]) # competition matrix \n",
        "xi_t = np.random.uniform(0, sigma, size=len(t)) # adding noise uniformly sampled [0,sigma]"
      ],
      "execution_count": 183,
      "outputs": []
    },
    {
      "cell_type": "code",
      "metadata": {
        "id": "NWO29WOmd6GV"
      },
      "source": [
        "def ODE_Int(a,x,t,P,V,xi_t,alpha = 1):\n",
        "  \"\"\"\n",
        "  Euler Method for ODE Integration \n",
        "  \"\"\"\n",
        "\n",
        "  for n in tqdm(range(0,len(t)-1)):\n",
        "    for i in range(0, N_p):\n",
        "      #Principal Neurons Amplitudes\n",
        "      a[n+1,i] = a[n,i] + (a[n,i] -a[n,i]*np.matmul(V[n, i,:],a[n,:]) + alpha*a[n,i]*np.matmul(P[n,:,:].T[i,:], x[n,:]) + xi_t[n])*(t[n+1] - t[n]) \n",
        "      for j in range(0, N_s):\n",
        "        for k in range(0, N_p):\n",
        "          # Projection Matrix\n",
        "          P[n+1, j, i] = P[n, j, i] + eps*a[n, i]*(beta*x[n, j] -P[n,j,i])*(t[n+1] - t[n])\n",
        "          # Competition Matrix - Delay Differential Equation \n",
        "          if n-tau >= 0: \n",
        "            V[n+1,i, k] = V[n, i, k] + eps*a[n, i]*a[n-tau,k]*(V_1 - V[n, i, k])*(t[n+1] - t[n])\n",
        "          else:\n",
        "            #V[n+1, i, k] = V[n, i, k] + eps*a[n, i]*(V_1 - V[n, i, k])*(t[n+1] - t[n])\n",
        "            V[n+1, i, k] = V[n, i, k] + eps*a[n, i]*a[n, k]*(V_1 - V[n, i, k])*(t[n+1] - t[n])\n",
        "\n",
        "  return (a, P, V)"
      ],
      "execution_count": 184,
      "outputs": []
    },
    {
      "cell_type": "code",
      "metadata": {
        "id": "fcC4pOkYbhFi",
        "colab": {
          "base_uri": "https://localhost:8080/",
          "height": 66,
          "referenced_widgets": [
            "47f63c56478f4cdaa0e3d5cc6c63e288",
            "79bd46be49b04d2d91eb6711dfc3867e",
            "c9e189561d264476a4e0ab007fdecb71",
            "a3b149083aa548b78f7196eaae60fd90",
            "79c5d469a3a94013986107fd08827a51",
            "eddcc2df230e4cb389d6deff82b5a26c",
            "0e1e06f079b2404baec16edc14d4cf6f",
            "8a461412802148d59e91ecbe31cfe571"
          ]
        },
        "outputId": "31a6acee-f325-483f-9c02-6c937659a6d6"
      },
      "source": [
        "a_learn, P_learn, V_learn = ODE_Int(a,x,t,P,V,xi_t,alpha = 1)"
      ],
      "execution_count": 185,
      "outputs": [
        {
          "output_type": "display_data",
          "data": {
            "application/vnd.jupyter.widget-view+json": {
              "model_id": "47f63c56478f4cdaa0e3d5cc6c63e288",
              "version_minor": 0,
              "version_major": 2
            },
            "text/plain": [
              "HBox(children=(FloatProgress(value=0.0, max=5999.0), HTML(value='')))"
            ]
          },
          "metadata": {
            "tags": []
          }
        },
        {
          "output_type": "stream",
          "text": [
            "\n"
          ],
          "name": "stdout"
        }
      ]
    },
    {
      "cell_type": "code",
      "metadata": {
        "id": "MkDJhfhdHV1D"
      },
      "source": [
        "#t_test = np.linspace(0, 3, num = 1200)\n",
        "#xi_t_test = np.random.uniform(0, sigma, size=len(t_test))"
      ],
      "execution_count": null,
      "outputs": []
    },
    {
      "cell_type": "code",
      "metadata": {
        "id": "SMGjnL66rFtK",
        "colab": {
          "base_uri": "https://localhost:8080/",
          "height": 66,
          "referenced_widgets": [
            "6fd7ab16c08e4477a1a1fec95d6c4298",
            "509570f6accb41e6922161bc45e4862a",
            "932f274d57ca43c18189c4c3a51fccdf",
            "ecc3ca7e98bf42f1ae9120ea50131c9a",
            "230b9ed2791a47c0ae3358c65a8b304e",
            "4445e13b858544bf8b0671d8033ef12a",
            "2f2793cfb59d4b18ac3bfdd3b9210e1b",
            "fec2ae1668c8487a8961f788a080cf01"
          ]
        },
        "outputId": "dfaffb7b-463b-4554-af6d-670435101ecc"
      },
      "source": [
        "#a_retr, P_retr, V_retr = ODE_Int(a_learn, x_2, t_test, P_learn, V_learn, xi_t_test, alpha = 0)"
      ],
      "execution_count": 122,
      "outputs": [
        {
          "output_type": "display_data",
          "data": {
            "application/vnd.jupyter.widget-view+json": {
              "model_id": "6fd7ab16c08e4477a1a1fec95d6c4298",
              "version_minor": 0,
              "version_major": 2
            },
            "text/plain": [
              "HBox(children=(FloatProgress(value=0.0, max=1499.0), HTML(value='')))"
            ]
          },
          "metadata": {
            "tags": []
          }
        },
        {
          "output_type": "stream",
          "text": [
            "\n"
          ],
          "name": "stdout"
        }
      ]
    },
    {
      "cell_type": "code",
      "metadata": {
        "colab": {
          "base_uri": "https://localhost:8080/",
          "height": 540
        },
        "id": "I47iz4V9KMlL",
        "outputId": "b5922536-d802-4b4b-b78a-c9199ce8f62c"
      },
      "source": [
        "# Plotting learning phase\n",
        "fig, ((ax1, ax2), (ax3, ax4)) = plt.subplots(2, 2, figsize = (15,8))\n",
        "fig.suptitle('Sharing x per column, y per row')\n",
        "ax1.plot(a_learn[:,0])\n",
        "ax1.grid(alpha = 0.5)\n",
        "ax2.plot(a_learn[:,1], 'tab:orange')\n",
        "ax2.grid(alpha = 0.5)\n",
        "ax3.plot(a_learn[:,2], 'tab:green')\n",
        "ax3.grid(alpha = 0.5)\n",
        "ax4.plot(a_learn[:,3],'tab:red')\n",
        "ax4.grid(alpha = 0.5)\n",
        "\n",
        "\n",
        "for ax in fig.get_axes():\n",
        "    ax.label_outer()"
      ],
      "execution_count": 186,
      "outputs": [
        {
          "output_type": "display_data",
          "data": {
            "image/png": "[encoded data removed]",
            "text/plain": [
              "<Figure size 1080x576 with 4 Axes>"
            ]
          },
          "metadata": {
            "tags": [],
            "needs_background": "light"
          }
        }
      ]
    },
    {
      "cell_type": "code",
      "metadata": {
        "colab": {
          "base_uri": "https://localhost:8080/",
          "height": 540
        },
        "id": "yo8wMoQ7MPax",
        "outputId": "0412ba1b-26cf-45d8-eabc-c5061c7515f8"
      },
      "source": [
        "# Plotting - retrieval phase\n",
        "fig, ((ax1, ax2), (ax3, ax4)) = plt.subplots(2, 2, figsize = (15,8))\n",
        "fig.suptitle('Sharing x per column, y per row')\n",
        "ax1.plot(a_retr[:,0])\n",
        "ax1.grid(alpha = 0.5)\n",
        "ax2.plot(a_retr[:,1], 'tab:orange')\n",
        "ax2.grid(alpha = 0.5)\n",
        "ax3.plot(a_retr[:,2], 'tab:green')\n",
        "ax3.grid(alpha = 0.5)\n",
        "ax4.plot(a_retr[:,3],'tab:red')\n",
        "ax4.grid(alpha = 0.5)\n",
        "\n",
        "\n",
        "for ax in fig.get_axes():\n",
        "    ax.label_outer()"
      ],
      "execution_count": 124,
      "outputs": [
        {
          "output_type": "display_data",
          "data": {
            "image/png": "[encoded data removed]",
            "text/plain": [
              "<Figure size 1080x576 with 4 Axes>"
            ]
          },
          "metadata": {
            "tags": [],
            "needs_background": "light"
          }
        }
      ]
    }
  ]
}