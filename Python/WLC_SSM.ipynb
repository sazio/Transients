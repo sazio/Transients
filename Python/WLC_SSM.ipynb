{
  "nbformat": 4,
  "nbformat_minor": 0,
  "metadata": {
    "colab": {
      "name": "WLC_SSM.ipynb",
      "provenance": [],
      "authorship_tag": "ABX9TyNhKPX8vZ+hLBRfxVfEGrfs",
      "include_colab_link": true
    },
    "kernelspec": {
      "name": "python3",
      "display_name": "Python 3"
    }
  },
  "cells": [
    {
      "cell_type": "markdown",
      "metadata": {
        "id": "view-in-github",
        "colab_type": "text"
      },
      "source": [
        "<a href=\"https://colab.research.google.com/github/sazio/Transients/blob/master/Python/WLC_SSM.ipynb\" target=\"_parent\"><img src=\"https://colab.research.google.com/assets/colab-badge.svg\" alt=\"Open In Colab\"/></a>"
      ]
    },
    {
      "cell_type": "code",
      "metadata": {
        "id": "ODwLrg3cwgEA"
      },
      "source": [
        "import numpy as np"
      ],
      "execution_count": 1,
      "outputs": []
    },
    {
      "cell_type": "code",
      "metadata": {
        "id": "xdhQn8Vezkvj"
      },
      "source": [
        "# Simulation's Parameters \n",
        "N_s = 588\n",
        "N_p = 10 \n",
        "alpha = 1\n",
        "beta = 2.5\n",
        "V_1 = 0.9\n",
        "eps = 0.01\n",
        "sigma = 0.0001\n",
        "tau = 480"
      ],
      "execution_count": 3,
      "outputs": []
    },
    {
      "cell_type": "code",
      "metadata": {
        "id": "jBXSFknHzy03"
      },
      "source": [
        ""
      ],
      "execution_count": null,
      "outputs": []
    }
  ]
}