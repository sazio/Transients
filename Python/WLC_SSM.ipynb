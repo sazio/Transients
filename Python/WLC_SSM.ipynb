{
  "nbformat": 4,
  "nbformat_minor": 0,
  "metadata": {
    "colab": {
      "name": "WLC_SSM.ipynb",
      "provenance": [],
      "include_colab_link": true
    },
    "kernelspec": {
      "name": "python3",
      "display_name": "Python 3"
    },
    "widgets": {
      "application/vnd.jupyter.widget-state+json": {
        "005209ce0d4e4b29ae1836208177340b": {
          "model_module": "@jupyter-widgets/controls",
          "model_name": "HBoxModel",
          "state": {
            "_view_name": "HBoxView",
            "_dom_classes": [],
            "_model_name": "HBoxModel",
            "_view_module": "@jupyter-widgets/controls",
            "_model_module_version": "1.5.0",
            "_view_count": null,
            "_view_module_version": "1.5.0",
            "box_style": "",
            "layout": "IPY_MODEL_3be60b7649e04e19b1e9aa506dd8d741",
            "_model_module": "@jupyter-widgets/controls",
            "children": [
              "IPY_MODEL_82c5dd2511494dcf9725f24080def90e",
              "IPY_MODEL_36ff1896ff75493b90c6f041c46e30f1"
            ]
          }
        },
        "3be60b7649e04e19b1e9aa506dd8d741": {
          "model_module": "@jupyter-widgets/base",
          "model_name": "LayoutModel",
          "state": {
            "_view_name": "LayoutView",
            "grid_template_rows": null,
            "right": null,
            "justify_content": null,
            "_view_module": "@jupyter-widgets/base",
            "overflow": null,
            "_model_module_version": "1.2.0",
            "_view_count": null,
            "flex_flow": null,
            "width": null,
            "min_width": null,
            "border": null,
            "align_items": null,
            "bottom": null,
            "_model_module": "@jupyter-widgets/base",
            "top": null,
            "grid_column": null,
            "overflow_y": null,
            "overflow_x": null,
            "grid_auto_flow": null,
            "grid_area": null,
            "grid_template_columns": null,
            "flex": null,
            "_model_name": "LayoutModel",
            "justify_items": null,
            "grid_row": null,
            "max_height": null,
            "align_content": null,
            "visibility": null,
            "align_self": null,
            "height": null,
            "min_height": null,
            "padding": null,
            "grid_auto_rows": null,
            "grid_gap": null,
            "max_width": null,
            "order": null,
            "_view_module_version": "1.2.0",
            "grid_template_areas": null,
            "object_position": null,
            "object_fit": null,
            "grid_auto_columns": null,
            "margin": null,
            "display": null,
            "left": null
          }
        },
        "82c5dd2511494dcf9725f24080def90e": {
          "model_module": "@jupyter-widgets/controls",
          "model_name": "FloatProgressModel",
          "state": {
            "_view_name": "ProgressView",
            "style": "IPY_MODEL_0fe18a8f40004177bbfe035739433b36",
            "_dom_classes": [],
            "description": "100%",
            "_model_name": "FloatProgressModel",
            "bar_style": "success",
            "max": 1799,
            "_view_module": "@jupyter-widgets/controls",
            "_model_module_version": "1.5.0",
            "value": 1799,
            "_view_count": null,
            "_view_module_version": "1.5.0",
            "orientation": "horizontal",
            "min": 0,
            "description_tooltip": null,
            "_model_module": "@jupyter-widgets/controls",
            "layout": "IPY_MODEL_311ef321c0f14ac6ab19b163403cdc73"
          }
        },
        "36ff1896ff75493b90c6f041c46e30f1": {
          "model_module": "@jupyter-widgets/controls",
          "model_name": "HTMLModel",
          "state": {
            "_view_name": "HTMLView",
            "style": "IPY_MODEL_eb13ac64e31f4873889dea3176ad275f",
            "_dom_classes": [],
            "description": "",
            "_model_name": "HTMLModel",
            "placeholder": "​",
            "_view_module": "@jupyter-widgets/controls",
            "_model_module_version": "1.5.0",
            "value": " 1799/1799 [00:14&lt;00:00, 123.84it/s]",
            "_view_count": null,
            "_view_module_version": "1.5.0",
            "description_tooltip": null,
            "_model_module": "@jupyter-widgets/controls",
            "layout": "IPY_MODEL_8c672a0e811141c49111685d07fc7235"
          }
        },
        "0fe18a8f40004177bbfe035739433b36": {
          "model_module": "@jupyter-widgets/controls",
          "model_name": "ProgressStyleModel",
          "state": {
            "_view_name": "StyleView",
            "_model_name": "ProgressStyleModel",
            "description_width": "initial",
            "_view_module": "@jupyter-widgets/base",
            "_model_module_version": "1.5.0",
            "_view_count": null,
            "_view_module_version": "1.2.0",
            "bar_color": null,
            "_model_module": "@jupyter-widgets/controls"
          }
        },
        "311ef321c0f14ac6ab19b163403cdc73": {
          "model_module": "@jupyter-widgets/base",
          "model_name": "LayoutModel",
          "state": {
            "_view_name": "LayoutView",
            "grid_template_rows": null,
            "right": null,
            "justify_content": null,
            "_view_module": "@jupyter-widgets/base",
            "overflow": null,
            "_model_module_version": "1.2.0",
            "_view_count": null,
            "flex_flow": null,
            "width": null,
            "min_width": null,
            "border": null,
            "align_items": null,
            "bottom": null,
            "_model_module": "@jupyter-widgets/base",
            "top": null,
            "grid_column": null,
            "overflow_y": null,
            "overflow_x": null,
            "grid_auto_flow": null,
            "grid_area": null,
            "grid_template_columns": null,
            "flex": null,
            "_model_name": "LayoutModel",
            "justify_items": null,
            "grid_row": null,
            "max_height": null,
            "align_content": null,
            "visibility": null,
            "align_self": null,
            "height": null,
            "min_height": null,
            "padding": null,
            "grid_auto_rows": null,
            "grid_gap": null,
            "max_width": null,
            "order": null,
            "_view_module_version": "1.2.0",
            "grid_template_areas": null,
            "object_position": null,
            "object_fit": null,
            "grid_auto_columns": null,
            "margin": null,
            "display": null,
            "left": null
          }
        },
        "eb13ac64e31f4873889dea3176ad275f": {
          "model_module": "@jupyter-widgets/controls",
          "model_name": "DescriptionStyleModel",
          "state": {
            "_view_name": "StyleView",
            "_model_name": "DescriptionStyleModel",
            "description_width": "",
            "_view_module": "@jupyter-widgets/base",
            "_model_module_version": "1.5.0",
            "_view_count": null,
            "_view_module_version": "1.2.0",
            "_model_module": "@jupyter-widgets/controls"
          }
        },
        "8c672a0e811141c49111685d07fc7235": {
          "model_module": "@jupyter-widgets/base",
          "model_name": "LayoutModel",
          "state": {
            "_view_name": "LayoutView",
            "grid_template_rows": null,
            "right": null,
            "justify_content": null,
            "_view_module": "@jupyter-widgets/base",
            "overflow": null,
            "_model_module_version": "1.2.0",
            "_view_count": null,
            "flex_flow": null,
            "width": null,
            "min_width": null,
            "border": null,
            "align_items": null,
            "bottom": null,
            "_model_module": "@jupyter-widgets/base",
            "top": null,
            "grid_column": null,
            "overflow_y": null,
            "overflow_x": null,
            "grid_auto_flow": null,
            "grid_area": null,
            "grid_template_columns": null,
            "flex": null,
            "_model_name": "LayoutModel",
            "justify_items": null,
            "grid_row": null,
            "max_height": null,
            "align_content": null,
            "visibility": null,
            "align_self": null,
            "height": null,
            "min_height": null,
            "padding": null,
            "grid_auto_rows": null,
            "grid_gap": null,
            "max_width": null,
            "order": null,
            "_view_module_version": "1.2.0",
            "grid_template_areas": null,
            "object_position": null,
            "object_fit": null,
            "grid_auto_columns": null,
            "margin": null,
            "display": null,
            "left": null
          }
        }
      }
    }
  },
  "cells": [
    {
      "cell_type": "markdown",
      "metadata": {
        "id": "view-in-github",
        "colab_type": "text"
      },
      "source": [
        "<a href=\"https://colab.research.google.com/github/sazio/Transients/blob/master/Python/WLC_SSM.ipynb\" target=\"_parent\"><img src=\"https://colab.research.google.com/assets/colab-badge.svg\" alt=\"Open In Colab\"/></a>"
      ]
    },
    {
      "cell_type": "code",
      "metadata": {
        "id": "ODwLrg3cwgEA"
      },
      "source": [
        "import numpy as np\n",
        "from tqdm.notebook import tqdm \n",
        "import matplotlib.pyplot as plt\n",
        "\n",
        "import warnings\n",
        "warnings.filterwarnings('ignore')"
      ],
      "execution_count": 2,
      "outputs": []
    },
    {
      "cell_type": "code",
      "metadata": {
        "id": "xdhQn8Vezkvj"
      },
      "source": [
        "# Simulation's Parameters \n",
        "N_s = 576 # x_i with i in [1,...,N_s]\n",
        "N_p = 3 # a_i with i in [1,...,N_p]\n",
        "alpha = 1 #learning phase\n",
        "beta = 2.5\n",
        "V_1 = 0.9\n",
        "eps = 0.01\n",
        "sigma = 0.0001\n",
        "#tau = 1 # delay in competition matrix\n",
        "V_0 = 2."
      ],
      "execution_count": 464,
      "outputs": []
    },
    {
      "cell_type": "code",
      "metadata": {
        "id": "89KoM9_6dsNg"
      },
      "source": [
        "t_end = 3\n",
        "t = np.linspace(0, t_end, num = 1800) # time steps \n",
        "# adding some noise to principal neurons initialization\n",
        "#np.random.seed(137) # setting random seed  \n",
        "#a = np.asarray([np.ones(N_p) + np.random.normal(0,0.001, N_p) for i in range(0,len(t))]) # principal neurons \n",
        "a = np.asarray([np.zeros(N_p) for i in range(0,len(t))]) # principal neurons "
      ],
      "execution_count": 506,
      "outputs": []
    },
    {
      "cell_type": "code",
      "metadata": {
        "id": "ja6oARH2dsj4"
      },
      "source": [
        "# Generating binary patterns \n",
        "# np.random.seed(137)\n",
        "# patterns = [np.random.randint(0,2,N_s) for i in range(num_patterns)]"
      ],
      "execution_count": 507,
      "outputs": []
    },
    {
      "cell_type": "code",
      "metadata": {
        "id": "z4TgGGYOjfZg"
      },
      "source": [
        "patterns = []\n",
        "\n",
        "pattern_1 = [0,0,0,0,0,1,1,1,1,1,1,1,1,1,1,1,1,1,1,0,0,0,0,0,\n",
        "             0,0,0,0,0,1,1,1,1,1,1,1,1,1,1,1,1,1,1,0,0,0,0,0,\n",
        "             0,0,0,0,0,1,1,1,1,1,1,1,1,1,1,1,1,1,1,0,0,0,0,0,\n",
        "             0,0,0,0,0,1,1,1,1,1,1,1,1,1,1,1,1,1,1,0,0,0,0,0,\n",
        "             0,0,0,0,0,1,1,1,1,1,1,1,1,1,1,1,1,1,1,0,0,0,0,0,\n",
        "             0,0,0,0,0,1,1,1,1,1,1,1,1,1,1,1,1,1,1,0,0,0,0,0,\n",
        "             0,0,0,0,0,1,1,1,1,1,1,1,1,1,1,1,1,1,1,0,0,0,0,0,\n",
        "             0,0,0,0,0,1,1,1,1,1,1,1,1,1,1,1,1,1,1,0,0,0,0,0,\n",
        "             0,0,0,0,0,1,1,1,1,1,1,0,0,1,1,1,1,1,1,0,0,0,0,0,\n",
        "             0,0,0,0,0,1,1,1,1,1,1,0,0,1,1,1,1,1,1,0,0,0,0,0,\n",
        "             0,0,0,0,0,1,1,1,1,1,1,0,0,1,1,1,1,1,1,0,0,0,0,0,\n",
        "             0,0,0,0,0,1,1,1,1,0,1,0,0,1,0,1,1,1,1,0,0,0,0,0,\n",
        "             0,0,0,0,0,1,1,1,1,0,0,0,0,0,0,1,1,1,1,0,0,0,0,0,\n",
        "             0,0,0,0,0,1,1,1,1,0,0,0,0,0,0,1,1,1,1,0,0,0,0,0,\n",
        "             0,0,0,0,0,1,1,1,1,1,0,0,0,0,1,1,1,1,1,0,0,0,0,0,\n",
        "             0,0,0,0,0,1,1,1,1,1,0,0,0,0,1,1,1,1,1,0,0,0,0,0,\n",
        "             0,0,0,0,0,1,1,1,1,1,1,1,1,1,1,1,1,1,1,0,0,0,0,0,\n",
        "             0,0,0,0,0,1,1,1,1,1,1,1,1,1,1,1,1,1,1,0,0,0,0,0,\n",
        "             0,0,0,0,0,1,1,1,1,1,1,1,1,1,1,1,1,1,1,0,0,0,0,0,\n",
        "             0,0,0,0,0,1,1,1,1,1,1,1,1,1,1,1,1,1,1,0,0,0,0,0,\n",
        "             0,0,0,0,0,1,1,1,1,1,1,1,1,1,1,1,1,1,1,0,0,0,0,0,\n",
        "             0,0,0,0,0,1,1,1,1,1,1,1,1,1,1,1,1,1,1,0,0,0,0,0,\n",
        "             0,0,0,0,0,1,1,1,1,1,1,1,1,1,1,1,1,1,1,0,0,0,0,0,\n",
        "             0,0,0,0,0,1,1,1,1,1,1,1,1,1,1,1,1,1,1,0,0,0,0,0]\n",
        "\n",
        "pattern_2 = [1,1,1,1,1,1,1,1,1,1,1,1,1,0,0,0,0,0,0,0,0,0,0,0,\n",
        "             1,1,1,1,1,1,1,1,1,1,1,1,1,0,0,0,0,0,0,0,0,0,0,0,\n",
        "             1,1,1,0,0,0,0,0,0,0,0,0,0,0,0,0,0,0,0,0,0,0,0,0,\n",
        "             1,1,1,0,0,0,0,0,0,0,0,0,0,0,0,0,0,0,0,0,0,0,0,0,\n",
        "             1,1,1,0,0,0,0,0,0,0,0,0,0,0,0,0,0,0,0,0,0,0,0,0,\n",
        "             1,1,1,0,0,0,0,0,0,0,0,0,0,0,0,0,0,0,0,0,0,0,0,0,\n",
        "             1,1,1,0,0,0,0,0,0,0,0,0,0,0,0,0,0,0,0,0,0,0,0,0,\n",
        "             1,1,1,0,0,0,0,0,0,0,0,0,0,0,0,0,0,0,0,0,0,0,0,0,\n",
        "             1,1,1,0,0,0,0,0,0,0,0,0,0,0,0,0,0,0,0,0,0,0,0,0,\n",
        "             1,1,1,0,0,0,0,0,0,0,0,0,0,0,0,0,0,0,0,0,0,0,0,0,\n",
        "             1,1,1,0,0,0,0,0,0,0,0,0,0,0,0,0,0,0,0,0,0,0,0,0,\n",
        "             1,1,1,0,0,0,0,0,0,0,0,0,0,0,0,0,0,0,0,0,0,0,0,0,\n",
        "             0,0,0,1,1,1,1,1,1,1,1,1,1,1,1,1,1,1,1,1,1,1,1,1,\n",
        "             0,0,0,1,1,1,1,1,1,1,1,1,1,1,1,1,1,1,1,1,1,1,1,1,\n",
        "             0,0,0,1,1,1,1,1,1,1,1,1,1,1,1,1,1,1,1,1,1,1,1,1,\n",
        "             0,0,0,1,1,1,1,1,1,1,1,1,1,1,1,1,1,1,1,1,1,1,1,1,\n",
        "             0,0,0,1,1,1,1,1,1,1,1,1,1,1,1,1,1,1,1,1,1,1,1,1,\n",
        "             0,0,0,1,1,1,1,1,1,1,1,1,1,1,1,1,1,1,1,1,1,1,1,1,\n",
        "             0,0,0,1,1,1,1,1,1,1,1,1,1,1,1,1,1,1,1,1,1,1,1,1,\n",
        "             0,0,0,1,1,1,1,1,1,1,1,1,1,1,1,1,1,1,1,1,1,1,1,1,\n",
        "             0,0,0,1,1,1,1,1,1,1,1,1,1,1,1,1,1,1,1,1,1,1,1,1,\n",
        "             0,0,0,1,1,1,1,1,1,1,1,1,1,1,1,1,1,1,1,1,1,1,1,1,\n",
        "             0,0,0,1,1,1,1,1,1,1,1,1,1,1,1,1,1,1,1,1,1,1,1,1,\n",
        "             0,0,0,1,1,1,1,1,1,1,1,1,1,1,1,1,1,1,1,1,1,1,1,1]\n",
        "\n",
        "\"\"\"\n",
        "pattern_2 = [0,0,0,0,0,0,0,0,0,0,0,0,0,0,0,0,0,0,0,0,0,0,0,0,\n",
        "             0,0,0,0,0,0,0,0,0,0,0,0,0,0,0,0,0,0,0,0,0,0,0,0,\n",
        "             0,0,0,0,0,0,0,0,0,0,0,0,0,0,0,0,0,0,0,0,0,0,0,0,\n",
        "             0,0,0,0,0,0,0,0,0,0,0,0,0,0,0,0,0,0,0,0,0,0,0,0,\n",
        "             0,0,0,0,0,0,0,0,0,0,0,0,0,0,0,0,0,0,0,0,0,0,0,0,\n",
        "             0,0,0,0,0,0,0,0,0,0,0,0,0,0,0,0,0,0,0,0,0,0,0,0,\n",
        "             0,0,0,0,0,0,0,0,0,0,0,0,0,0,0,0,0,0,0,0,0,0,0,0,\n",
        "             0,0,0,0,0,0,0,0,0,0,0,0,0,0,0,0,0,0,0,0,0,0,0,0,\n",
        "             0,0,0,0,0,0,0,0,0,0,0,0,0,0,0,0,0,0,0,0,0,0,0,0,\n",
        "             0,0,0,0,0,0,0,0,0,0,0,0,0,0,0,0,0,0,0,0,0,0,0,0,\n",
        "             0,0,0,0,0,0,0,0,0,0,0,0,0,0,0,0,0,0,0,0,0,0,0,0,\n",
        "             0,0,0,0,0,0,0,0,0,0,0,0,0,0,0,0,0,0,0,0,0,0,0,0,\n",
        "             1,1,1,1,1,1,1,1,1,1,1,1,1,1,1,1,1,1,1,1,1,1,1,1,\n",
        "             1,1,1,1,1,1,1,1,1,1,1,1,1,1,1,1,1,1,1,1,1,1,1,1,\n",
        "             1,1,1,1,1,1,1,1,1,1,1,1,1,1,1,1,1,1,1,1,1,1,1,1,\n",
        "             1,1,1,1,1,1,1,1,1,1,1,1,1,1,1,1,1,1,1,1,1,1,1,1,\n",
        "             1,1,1,1,1,1,1,1,1,1,1,1,1,1,1,1,1,1,1,1,1,1,1,1,\n",
        "             1,1,1,1,1,1,1,1,1,1,1,1,1,1,1,1,1,1,1,1,1,1,1,1,\n",
        "             1,1,1,1,1,1,1,1,1,1,1,1,1,1,1,1,1,1,1,1,1,1,1,1,\n",
        "             1,1,1,1,1,1,1,1,1,1,1,1,1,1,1,1,1,1,1,1,1,1,1,1,\n",
        "             1,1,1,1,1,1,1,1,1,1,1,1,1,1,1,1,1,1,1,1,1,1,1,1,\n",
        "             1,1,1,1,1,1,1,1,1,1,1,1,1,1,1,1,1,1,1,1,1,1,1,1,\n",
        "             1,1,1,1,1,1,1,1,1,1,1,1,1,1,1,1,1,1,1,1,1,1,1,1,\n",
        "             1,1,1,1,1,1,1,1,1,1,1,1,1,1,1,1,1,1,1,1,1,1,1,1]\n",
        "\"\"\";\n",
        "pattern_3 = [0,0,0,0,0,0,0,0,0,0,0,0,0,0,0,0,0,0,0,0,0,0,0,1,\n",
        "             0,0,0,0,0,0,0,0,0,0,0,0,0,0,0,0,0,0,0,0,0,0,1,1,\n",
        "             0,0,0,0,0,0,0,0,0,0,0,0,0,0,0,0,0,0,0,0,0,1,1,1,\n",
        "             0,0,0,0,0,0,0,0,0,0,0,0,0,0,0,0,0,0,0,0,1,1,1,1,\n",
        "             0,0,0,0,0,0,0,0,0,0,0,0,0,0,0,0,0,0,0,1,1,1,1,1,\n",
        "             0,0,0,0,0,0,0,0,0,0,0,0,0,0,0,0,0,0,1,1,1,1,1,1,\n",
        "             0,0,0,0,0,0,0,0,0,0,0,0,0,0,0,0,0,1,1,1,1,1,1,1,\n",
        "             0,0,0,0,0,0,0,0,0,0,0,0,0,0,0,0,1,1,1,1,1,1,1,1,\n",
        "             0,0,0,0,0,0,0,0,0,0,0,0,0,0,0,1,1,1,1,1,1,1,1,1,\n",
        "             0,0,0,0,0,0,0,0,0,0,0,0,0,0,1,1,1,1,1,1,1,1,1,1,\n",
        "             0,0,0,0,0,0,0,0,0,0,0,0,0,1,1,1,1,1,1,1,1,1,1,1,\n",
        "             0,0,0,0,0,0,0,0,0,0,0,0,1,1,1,1,1,1,1,1,1,1,1,1,\n",
        "             0,0,0,0,0,0,0,0,0,0,0,1,1,1,1,1,1,1,1,1,1,1,1,1,\n",
        "             0,0,0,0,0,0,0,0,0,0,1,1,1,1,1,1,1,1,1,1,1,1,1,1,\n",
        "             0,0,0,0,0,0,0,0,0,1,1,1,1,1,1,1,1,1,1,1,1,1,1,1,\n",
        "             0,0,0,0,0,0,0,0,1,1,1,1,1,1,1,1,1,1,1,1,1,1,1,1,\n",
        "             0,0,0,0,0,0,0,1,1,1,1,1,1,1,1,1,1,1,1,1,1,1,1,1,\n",
        "             0,0,0,0,0,0,1,1,1,1,1,1,1,1,1,1,1,1,1,1,1,1,1,1,\n",
        "             0,0,0,0,0,1,1,1,1,1,1,1,1,1,1,1,1,1,1,1,1,1,1,1,\n",
        "             0,0,0,0,1,1,1,1,1,1,1,1,1,1,1,1,1,1,1,1,1,1,1,1,\n",
        "             0,0,0,1,1,1,1,1,1,1,1,1,1,1,1,1,1,1,1,1,1,1,1,1,\n",
        "             0,0,1,1,1,1,1,1,1,1,1,1,1,1,1,1,1,1,1,1,1,1,1,1,\n",
        "             0,1,1,1,1,1,1,1,1,1,1,1,1,1,1,1,1,1,1,1,1,1,1,1,\n",
        "             1,1,1,1,1,1,1,1,1,1,1,1,1,1,1,1,1,1,1,1,1,1,1,1]\n",
        "\n",
        "patterns.append(np.asarray(pattern_1))\n",
        "patterns.append(np.asarray(pattern_2))\n",
        "patterns.append(np.asarray(pattern_3))\n",
        "num_patterns = len(patterns) + 1\n",
        "repetitions = 1"
      ],
      "execution_count": 508,
      "outputs": []
    },
    {
      "cell_type": "code",
      "metadata": {
        "id": "nEvM31pmmzfK",
        "colab": {
          "base_uri": "https://localhost:8080/"
        },
        "outputId": "81e44ba7-b88d-41c0-8aa2-460318e04b11"
      },
      "source": [
        "time_each_pattern = len(t)//(num_patterns*repetitions)\n",
        "print(time_each_pattern)\n",
        "print(time_each_pattern//10)"
      ],
      "execution_count": 509,
      "outputs": [
        {
          "output_type": "stream",
          "text": [
            "450\n",
            "45\n"
          ],
          "name": "stdout"
        }
      ]
    },
    {
      "cell_type": "code",
      "metadata": {
        "id": "zp7-nGUXelNp"
      },
      "source": [
        "x_0 = np.asarray([patterns[0] for i in range(0,time_each_pattern)]) # sensory neurons -- pattern 1 \n",
        "x_1 = np.asarray([patterns[1] for i in range(0,time_each_pattern)]) # sensory neurons -- pattern 2\n",
        "x_2 = np.asarray([patterns[2] for i in range(0,time_each_pattern)]) # sensory neurons -- pattern 3\n",
        "#x_int = np.asarray([np.zeros((N_s,N_s)) for i in range(0,time_each_pattern//10)])\n",
        "x = np.vstack((x_0,x_1,x_2, x_0))\n",
        "#for i in range(0,repetitions-1): \n",
        "#  x = np.vstack((x, x_0,x_1,x_2)) # sensory neurons -- all the patterns"
      ],
      "execution_count": 510,
      "outputs": []
    },
    {
      "cell_type": "code",
      "metadata": {
        "colab": {
          "base_uri": "https://localhost:8080/"
        },
        "id": "EsEtgLYrnma6",
        "outputId": "96f4dd37-d7f6-427b-dfe9-4f5db0665fba"
      },
      "source": [
        "x.shape[0] == len(t)"
      ],
      "execution_count": 511,
      "outputs": [
        {
          "output_type": "execute_result",
          "data": {
            "text/plain": [
              "True"
            ]
          },
          "metadata": {
            "tags": []
          },
          "execution_count": 511
        }
      ]
    },
    {
      "cell_type": "code",
      "metadata": {
        "id": "5KSkZXB-091q"
      },
      "source": [
        "np.random.seed(137) # setting random seed  \n",
        "eta = np.random.normal(0,0.0001, (N_s-1,N_p)) # small perturbations for initial state (sum must be = 0)\n",
        "eta = np.vstack((eta, -sum(eta)))\n",
        "np.random.shuffle(eta)\n",
        "P = np.asarray([np.ones((N_s,N_p)) + eta  for i in range(0,len(t))]) # projection matrix\n",
        "V = np.asarray([ V_0*np.ones((N_p, N_p)) - (V_0 - 1)*np.eye(N_p) for i in range(0, len(t))]) # competition matrix \n",
        "xi_t = np.random.uniform(0, sigma, size=len(t)) # adding noise uniformly sampled [0,sigma]"
      ],
      "execution_count": 512,
      "outputs": []
    },
    {
      "cell_type": "code",
      "metadata": {
        "id": "NWO29WOmd6GV"
      },
      "source": [
        "def ODE_Int(a,x,t,P,V,xi_t,alpha = 1, tau = 480):\n",
        "  \"\"\"\n",
        "  Euler Method for ODE Integration \n",
        "  \"\"\"\n",
        "\n",
        "  for n in tqdm(range(0,len(t)-1)):\n",
        "    for i in range(0, N_p):\n",
        "      #Principal Neurons Amplitudes\n",
        "      a[n+1,i] = a[n,i] + (a[n,i] - a[n,i]*np.dot(V[n, i,:],a[n,:]) + alpha*a[n,i]*np.dot(P[n,:,:].T[i,:], x[n,:]) + xi_t[n])*(t[n+1] - t[n])        \n",
        "      \n",
        "      for j in range(0, N_s):\n",
        "        # Projection Matrix\n",
        "        P[n+1, j, i] = P[n, j, i] + eps*a[n, i]*(beta*x[n, j] - P[n,j,i])*(t[n+1] - t[n])\n",
        "\n",
        "      for k in range(0, N_p):\n",
        "        # Competition Matrix - Delay Differential Equation \n",
        "        if n-tau >= 0: \n",
        "          if i!= k: \n",
        "            V[n+1,k,i] = V[n,k,i] + eps*a[n, i]*a[n-tau,k]*(V_1 - V[n,k,i])*(t[n+1] - t[n])\n",
        "          else:\n",
        "            V[n+1,k,i] = 1 \n",
        "        else:\n",
        "          if i!=k:\n",
        "            V[n+1,k,i] = V[n,k,i] # + eps*a[n, i]*a[n, k]*(V_1 - V[n, i, k])*(t[n+1] - t[n])\n",
        "          else:\n",
        "            V[n+1,k,i] = 1 \n",
        "\n",
        "  return (a, P, V)"
      ],
      "execution_count": 513,
      "outputs": []
    },
    {
      "cell_type": "code",
      "metadata": {
        "id": "fcC4pOkYbhFi",
        "colab": {
          "base_uri": "https://localhost:8080/",
          "height": 66,
          "referenced_widgets": [
            "005209ce0d4e4b29ae1836208177340b",
            "3be60b7649e04e19b1e9aa506dd8d741",
            "82c5dd2511494dcf9725f24080def90e",
            "36ff1896ff75493b90c6f041c46e30f1",
            "0fe18a8f40004177bbfe035739433b36",
            "311ef321c0f14ac6ab19b163403cdc73",
            "eb13ac64e31f4873889dea3176ad275f",
            "8c672a0e811141c49111685d07fc7235"
          ]
        },
        "outputId": "ce191741-9f1c-4cdb-837c-e08845b89161"
      },
      "source": [
        "a_learn, P_learn, V_learn = ODE_Int(a, x, t, P, V, xi_t, alpha = 1, tau = 480)"
      ],
      "execution_count": 514,
      "outputs": [
        {
          "output_type": "display_data",
          "data": {
            "application/vnd.jupyter.widget-view+json": {
              "model_id": "005209ce0d4e4b29ae1836208177340b",
              "version_minor": 0,
              "version_major": 2
            },
            "text/plain": [
              "HBox(children=(FloatProgress(value=0.0, max=1799.0), HTML(value='')))"
            ]
          },
          "metadata": {
            "tags": []
          }
        },
        {
          "output_type": "stream",
          "text": [
            "\n"
          ],
          "name": "stdout"
        }
      ]
    },
    {
      "cell_type": "code",
      "metadata": {
        "colab": {
          "base_uri": "https://localhost:8080/",
          "height": 540
        },
        "id": "I47iz4V9KMlL",
        "outputId": "e8ef777d-c602-4c50-f5bd-26c776d98558"
      },
      "source": [
        "# Plotting learning phase\n",
        "fig, ((ax1, ax2, ax3)) = plt.subplots(3, figsize = (15,8))\n",
        "fig.suptitle('Sharing x per column, y per row')\n",
        "ax1.plot(a_learn[:,0])\n",
        "ax1.grid(alpha = 0.5)\n",
        "ax2.plot(a_learn[:,1], 'tab:orange')\n",
        "ax2.grid(alpha = 0.5)\n",
        "ax3.plot(a_learn[:,2], 'tab:green')\n",
        "ax3.grid(alpha = 0.5)\n",
        "\n",
        "for ax in fig.get_axes():\n",
        "    ax.label_outer()"
      ],
      "execution_count": 515,
      "outputs": [
        {
          "output_type": "display_data",
          "data": {
            "image/png": "[encoded data removed]",
            "text/plain": [
              "<Figure size 1080x576 with 3 Axes>"
            ]
          },
          "metadata": {
            "tags": [],
            "needs_background": "light"
          }
        }
      ]
    },
    {
      "cell_type": "code",
      "metadata": {
        "colab": {
          "base_uri": "https://localhost:8080/",
          "height": 265
        },
        "id": "7z54Cs-Fc_Kz",
        "outputId": "2cd44521-480d-4ff4-e421-a8396d5f5087"
      },
      "source": [
        "plt.figure(figsize=(15,4))\n",
        "plt.plot(a_learn[:,2] - a_learn[:,0])\n",
        "plt.grid(alpha = 0.5)"
      ],
      "execution_count": 516,
      "outputs": [
        {
          "output_type": "display_data",
          "data": {
            "image/png": "[encoded data removed]",
            "text/plain": [
              "<Figure size 1080x288 with 1 Axes>"
            ]
          },
          "metadata": {
            "tags": [],
            "needs_background": "light"
          }
        }
      ]
    },
    {
      "cell_type": "code",
      "metadata": {
        "colab": {
          "base_uri": "https://localhost:8080/",
          "height": 513
        },
        "id": "A3sw8f68W4aL",
        "outputId": "a68a3d00-1217-4699-80e2-688c62e34c2d"
      },
      "source": [
        "plt.figure(figsize=(15,8))\n",
        "plt.title(\"Competition Matrix - Elements Evolution\")\n",
        "plt.xlabel(\"Time steps\")\n",
        "plt.ylabel(\"V_ij values\")\n",
        "plt.plot(V_learn[:,0,0])\n",
        "plt.plot(V_learn[:,1,0])\n",
        "plt.plot(V_learn[:,2,0])\n",
        "plt.plot(V_learn[:,1,1])\n",
        "plt.plot(V_learn[:,2,1])\n",
        "plt.plot(V_learn[:,0,2])\n",
        "plt.plot(V_learn[:,1,2])\n",
        "plt.plot(V_learn[:,2,2])\n",
        "plt.legend([\"V_00\",\"V_10\", \"V_20\",\"V_11\", \"V_21\",\"V_02\", \"V_12\",\"V_22\"])\n",
        "plt.grid(alpha = 0.5)"
      ],
      "execution_count": 517,
      "outputs": [
        {
          "output_type": "display_data",
          "data": {
            "image/png": "[encoded data removed]",
            "text/plain": [
              "<Figure size 1080x576 with 1 Axes>"
            ]
          },
          "metadata": {
            "tags": [],
            "needs_background": "light"
          }
        }
      ]
    },
    {
      "cell_type": "code",
      "metadata": {
        "id": "SMGjnL66rFtK"
      },
      "source": [
        "#a_retr, P_retr, V_retr = ODE_Int(a_learn, x, t, P_learn, V_learn, xi_t, alpha = 0)"
      ],
      "execution_count": 492,
      "outputs": []
    },
    {
      "cell_type": "code",
      "metadata": {
        "id": "yo8wMoQ7MPax"
      },
      "source": [
        "# Plotting - retrieval phase\n",
        "\"\"\"\n",
        "fig, ((ax1, ax2, ax3)) = plt.subplots(3, figsize = (15,8))\n",
        "fig.suptitle('Sharing x per column, y per row')\n",
        "ax1.plot(a_retr[:,0])\n",
        "ax1.grid(alpha = 0.5)\n",
        "ax2.plot(a_retr[:,1], 'tab:orange')\n",
        "ax2.grid(alpha = 0.5)\n",
        "ax3.plot(a_retr[:,2], 'tab:green')\n",
        "ax3.grid(alpha = 0.5)\n",
        "\n",
        "for ax in fig.get_axes():\n",
        "    ax.label_outer()\n",
        "\n",
        "\"\"\";"
      ],
      "execution_count": null,
      "outputs": []
    }
  ]
}