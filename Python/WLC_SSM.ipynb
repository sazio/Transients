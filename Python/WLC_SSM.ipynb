{
  "nbformat": 4,
  "nbformat_minor": 0,
  "metadata": {
    "colab": {
      "name": "WLC_SSM.ipynb",
      "provenance": [],
      "authorship_tag": "ABX9TyM6o6M/yXT4H/rYkIKfjjH1",
      "include_colab_link": true
    },
    "kernelspec": {
      "name": "python3",
      "display_name": "Python 3"
    }
  },
  "cells": [
    {
      "cell_type": "markdown",
      "metadata": {
        "id": "view-in-github",
        "colab_type": "text"
      },
      "source": [
        "<a href=\"https://colab.research.google.com/github/sazio/Transients/blob/master/Python/WLC_SSM.ipynb\" target=\"_parent\"><img src=\"https://colab.research.google.com/assets/colab-badge.svg\" alt=\"Open In Colab\"/></a>"
      ]
    },
    {
      "cell_type": "code",
      "metadata": {
        "id": "ODwLrg3cwgEA"
      },
      "source": [
        "import numpy as np\n",
        "from tqdm.notebook import tqdm "
      ],
      "execution_count": 79,
      "outputs": []
    },
    {
      "cell_type": "code",
      "metadata": {
        "id": "xdhQn8Vezkvj"
      },
      "source": [
        "# Simulation's Parameters \n",
        "N_s = 588 # x_i with i in [1,...,N_s]\n",
        "N_p = 10 # a_i with i in [1,...,N_p]\n",
        "alpha = 1\n",
        "beta = 2.5\n",
        "V_1 = 0.9\n",
        "eps = 0.01\n",
        "sigma = 0.0001\n",
        "tau = 480\n",
        "V_0 = 2 "
      ],
      "execution_count": 67,
      "outputs": []
    },
    {
      "cell_type": "code",
      "metadata": {
        "colab": {
          "base_uri": "https://localhost:8080/"
        },
        "id": "5KSkZXB-091q",
        "outputId": "2f32fbb8-c3db-4c8c-a0c4-4ab5c46358b3"
      },
      "source": [
        "t = np.linspace(0, 10, num = 1000) # time steps \n",
        "a = np.asarray([np.ones(len(t)) for i in range(0,N_p)]) # principal neurons \n",
        "x = np.asarray([np.zeros(len(t)) for i in range(0,N_s)]) # sensory neurons\n",
        "\n",
        "np.random.seed(137) # setting random seed  \n",
        "eta = np.random.normal(0,0.0001, (N_s,N_p)) # small perturbations for initial state\n",
        "proj_matrix = np.asarray([np.ones((N_s,N_p)) + eta  for i in range(0,len(t))]) # get shape\n",
        "proj_matrix = np.moveaxis(proj_matrix, 0, -1) # shape  == (588, 10, 1000)\n",
        "\n",
        "V = np.asarray([ V_0*np.ones((N_p, N_p)) - (V_0 - 1)*np.eye(N_p) for i in range(0, len(t))]) # competition matrix \n",
        "V = np.moveaxis(V, 0, -1)"
      ],
      "execution_count": 93,
      "outputs": [
        {
          "output_type": "execute_result",
          "data": {
            "text/plain": [
              "(10, 10, 1000)"
            ]
          },
          "metadata": {
            "tags": []
          },
          "execution_count": 93
        }
      ]
    },
    {
      "cell_type": "code",
      "metadata": {
        "id": "NWO29WOmd6GV"
      },
      "source": [
        "delay = 4\n",
        "\n",
        "for n in tqdm(range(0,len(t)-1)):\n",
        "  for i in range(0, N_p):\n",
        "    a[i, n+1] = (a[i,n]- a[i,n]*np.matmul(V[:,:,n],a[:,n]) + alpha*a[i, n]*np.matmul(proj_matrix[:,:,n].T, x[:, n])*(t[n+1] - t[n])\n",
        "    for j in range(0, N_s):\n",
        "      for k in range(0, N_s):\n",
        "        P[i, j, n+1] = P[i, j, n] + eps*a[i, n]*(beta*x[j, n]-P[i, j, n])*(t[n+1] - t[n])\n",
        "        V[i, j, n+1] = V[i, j, n] + eps*a[i, n]*a[k, n-delay]*(V_1 - V[i, j, n])*(t[n+1] - t[n])"
      ],
      "execution_count": null,
      "outputs": []
    },
    {
      "cell_type": "code",
      "metadata": {
        "id": "6GkbLzub35-P"
      },
      "source": [
        ""
      ],
      "execution_count": null,
      "outputs": []
    },
    {
      "cell_type": "code",
      "metadata": {
        "id": "B9NT0sEW36Ew"
      },
      "source": [
        ""
      ],
      "execution_count": null,
      "outputs": []
    },
    {
      "cell_type": "code",
      "metadata": {
        "id": "r_U76Z8SduhI"
      },
      "source": [
        "def odeEuler(f,y0,t):\n",
        "    '''Approximate the solution of y'=f(y,t) by Euler's method.\n",
        "\n",
        "    Parameters\n",
        "    ----------\n",
        "    f : function\n",
        "        Right-hand side of the differential equation y'=f(t,y), y(t_0)=y_0\n",
        "    y0 : number\n",
        "        Initial value y(t0)=y0 wher t0 is the entry at index 0 in the array t\n",
        "    t : array\n",
        "        1D NumPy array of t values where we approximate y values. Time step\n",
        "        at each iteration is given by t[n+1] - t[n].\n",
        "\n",
        "    Returns\n",
        "    -------\n",
        "    y : 1D NumPy array\n",
        "        Approximation y[n] of the solution y(t_n) computed by Euler's method.\n",
        "    '''\n",
        "    y = np.zeros(len(t))\n",
        "    y[0] = y0\n",
        "    for n in range(0,len(t)-1):\n",
        "      y[n+1] = y[n] + f(y[n],t[n])*(t[n+1] - t[n])\n",
        "    return y"
      ],
      "execution_count": 59,
      "outputs": []
    }
  ]
}