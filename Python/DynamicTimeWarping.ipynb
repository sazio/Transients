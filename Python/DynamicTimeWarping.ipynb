{
  "nbformat": 4,
  "nbformat_minor": 0,
  "metadata": {
    "colab": {
      "name": "DynamicTimeWarping.ipynb",
      "provenance": [],
      "collapsed_sections": [],
      "authorship_tag": "ABX9TyPr8TRcCyz0pxVWMJGj1r3/",
      "include_colab_link": true
    },
    "kernelspec": {
      "name": "python3",
      "display_name": "Python 3"
    }
  },
  "cells": [
    {
      "cell_type": "markdown",
      "metadata": {
        "id": "view-in-github",
        "colab_type": "text"
      },
      "source": [
        "<a href=\"https://colab.research.google.com/github/sazio/Transients/blob/master/Python/DynamicTimeWarping.ipynb\" target=\"_parent\"><img src=\"https://colab.research.google.com/assets/colab-badge.svg\" alt=\"Open In Colab\"/></a>"
      ]
    },
    {
      "cell_type": "code",
      "metadata": {
        "id": "vj4D9l02RhLN",
        "outputId": "f4de2383-2fa1-4656-bea8-1c132b50fd45",
        "colab": {
          "base_uri": "https://localhost:8080/"
        }
      },
      "source": [
        "!pip install dtaidistance"
      ],
      "execution_count": 3,
      "outputs": [
        {
          "output_type": "stream",
          "text": [
            "Collecting dtaidistance\n",
            "\u001b[?25l  Downloading https://files.pythonhosted.org/packages/0f/2a/b77d60c493b109824ebe239eb48a0868c9c36b61eef9c188e11e66639a58/dtaidistance-2.1.2.tar.gz (752kB)\n",
            "\r\u001b[K     |▍                               | 10kB 16.4MB/s eta 0:00:01\r\u001b[K     |▉                               | 20kB 21.2MB/s eta 0:00:01\r\u001b[K     |█▎                              | 30kB 10.6MB/s eta 0:00:01\r\u001b[K     |█▊                              | 40kB 8.6MB/s eta 0:00:01\r\u001b[K     |██▏                             | 51kB 4.4MB/s eta 0:00:01\r\u001b[K     |██▋                             | 61kB 5.0MB/s eta 0:00:01\r\u001b[K     |███                             | 71kB 5.0MB/s eta 0:00:01\r\u001b[K     |███▌                            | 81kB 5.3MB/s eta 0:00:01\r\u001b[K     |████                            | 92kB 5.7MB/s eta 0:00:01\r\u001b[K     |████▍                           | 102kB 6.0MB/s eta 0:00:01\r\u001b[K     |████▉                           | 112kB 6.0MB/s eta 0:00:01\r\u001b[K     |█████▎                          | 122kB 6.0MB/s eta 0:00:01\r\u001b[K     |█████▋                          | 133kB 6.0MB/s eta 0:00:01\r\u001b[K     |██████                          | 143kB 6.0MB/s eta 0:00:01\r\u001b[K     |██████▌                         | 153kB 6.0MB/s eta 0:00:01\r\u001b[K     |███████                         | 163kB 6.0MB/s eta 0:00:01\r\u001b[K     |███████▍                        | 174kB 6.0MB/s eta 0:00:01\r\u001b[K     |███████▉                        | 184kB 6.0MB/s eta 0:00:01\r\u001b[K     |████████▎                       | 194kB 6.0MB/s eta 0:00:01\r\u001b[K     |████████▊                       | 204kB 6.0MB/s eta 0:00:01\r\u001b[K     |█████████▏                      | 215kB 6.0MB/s eta 0:00:01\r\u001b[K     |█████████▋                      | 225kB 6.0MB/s eta 0:00:01\r\u001b[K     |██████████                      | 235kB 6.0MB/s eta 0:00:01\r\u001b[K     |██████████▌                     | 245kB 6.0MB/s eta 0:00:01\r\u001b[K     |███████████                     | 256kB 6.0MB/s eta 0:00:01\r\u001b[K     |███████████▎                    | 266kB 6.0MB/s eta 0:00:01\r\u001b[K     |███████████▊                    | 276kB 6.0MB/s eta 0:00:01\r\u001b[K     |████████████▏                   | 286kB 6.0MB/s eta 0:00:01\r\u001b[K     |████████████▋                   | 296kB 6.0MB/s eta 0:00:01\r\u001b[K     |█████████████                   | 307kB 6.0MB/s eta 0:00:01\r\u001b[K     |█████████████▌                  | 317kB 6.0MB/s eta 0:00:01\r\u001b[K     |██████████████                  | 327kB 6.0MB/s eta 0:00:01\r\u001b[K     |██████████████▍                 | 337kB 6.0MB/s eta 0:00:01\r\u001b[K     |██████████████▉                 | 348kB 6.0MB/s eta 0:00:01\r\u001b[K     |███████████████▎                | 358kB 6.0MB/s eta 0:00:01\r\u001b[K     |███████████████▊                | 368kB 6.0MB/s eta 0:00:01\r\u001b[K     |████████████████▏               | 378kB 6.0MB/s eta 0:00:01\r\u001b[K     |████████████████▌               | 389kB 6.0MB/s eta 0:00:01\r\u001b[K     |█████████████████               | 399kB 6.0MB/s eta 0:00:01\r\u001b[K     |█████████████████▍              | 409kB 6.0MB/s eta 0:00:01\r\u001b[K     |█████████████████▉              | 419kB 6.0MB/s eta 0:00:01\r\u001b[K     |██████████████████▎             | 430kB 6.0MB/s eta 0:00:01\r\u001b[K     |██████████████████▊             | 440kB 6.0MB/s eta 0:00:01\r\u001b[K     |███████████████████▏            | 450kB 6.0MB/s eta 0:00:01\r\u001b[K     |███████████████████▋            | 460kB 6.0MB/s eta 0:00:01\r\u001b[K     |████████████████████            | 471kB 6.0MB/s eta 0:00:01\r\u001b[K     |████████████████████▌           | 481kB 6.0MB/s eta 0:00:01\r\u001b[K     |█████████████████████           | 491kB 6.0MB/s eta 0:00:01\r\u001b[K     |█████████████████████▍          | 501kB 6.0MB/s eta 0:00:01\r\u001b[K     |█████████████████████▉          | 512kB 6.0MB/s eta 0:00:01\r\u001b[K     |██████████████████████▏         | 522kB 6.0MB/s eta 0:00:01\r\u001b[K     |██████████████████████▋         | 532kB 6.0MB/s eta 0:00:01\r\u001b[K     |███████████████████████         | 542kB 6.0MB/s eta 0:00:01\r\u001b[K     |███████████████████████▌        | 552kB 6.0MB/s eta 0:00:01\r\u001b[K     |████████████████████████        | 563kB 6.0MB/s eta 0:00:01\r\u001b[K     |████████████████████████▍       | 573kB 6.0MB/s eta 0:00:01\r\u001b[K     |████████████████████████▉       | 583kB 6.0MB/s eta 0:00:01\r\u001b[K     |█████████████████████████▎      | 593kB 6.0MB/s eta 0:00:01\r\u001b[K     |█████████████████████████▊      | 604kB 6.0MB/s eta 0:00:01\r\u001b[K     |██████████████████████████▏     | 614kB 6.0MB/s eta 0:00:01\r\u001b[K     |██████████████████████████▋     | 624kB 6.0MB/s eta 0:00:01\r\u001b[K     |███████████████████████████     | 634kB 6.0MB/s eta 0:00:01\r\u001b[K     |███████████████████████████▌    | 645kB 6.0MB/s eta 0:00:01\r\u001b[K     |███████████████████████████▉    | 655kB 6.0MB/s eta 0:00:01\r\u001b[K     |████████████████████████████▎   | 665kB 6.0MB/s eta 0:00:01\r\u001b[K     |████████████████████████████▊   | 675kB 6.0MB/s eta 0:00:01\r\u001b[K     |█████████████████████████████▏  | 686kB 6.0MB/s eta 0:00:01\r\u001b[K     |█████████████████████████████▋  | 696kB 6.0MB/s eta 0:00:01\r\u001b[K     |██████████████████████████████  | 706kB 6.0MB/s eta 0:00:01\r\u001b[K     |██████████████████████████████▌ | 716kB 6.0MB/s eta 0:00:01\r\u001b[K     |███████████████████████████████ | 727kB 6.0MB/s eta 0:00:01\r\u001b[K     |███████████████████████████████▍| 737kB 6.0MB/s eta 0:00:01\r\u001b[K     |███████████████████████████████▉| 747kB 6.0MB/s eta 0:00:01\r\u001b[K     |████████████████████████████████| 757kB 6.0MB/s \n",
            "\u001b[?25hRequirement already satisfied: cython in /usr/local/lib/python3.6/dist-packages (from dtaidistance) (0.29.21)\n",
            "Building wheels for collected packages: dtaidistance\n",
            "  Building wheel for dtaidistance (setup.py) ... \u001b[?25l\u001b[?25hdone\n",
            "  Created wheel for dtaidistance: filename=dtaidistance-2.1.2-cp36-cp36m-linux_x86_64.whl size=1446280 sha256=0e068891244f062c5288beb383794c1da225fc1576ef385f58ceb91716bfd259\n",
            "  Stored in directory: /root/.cache/pip/wheels/d6/2c/9e/ed7ddb5538a7f3eab7b743e657f539260c46252c330ee0180e\n",
            "Successfully built dtaidistance\n",
            "Installing collected packages: dtaidistance\n",
            "Successfully installed dtaidistance-2.1.2\n"
          ],
          "name": "stdout"
        }
      ]
    },
    {
      "cell_type": "code",
      "metadata": {
        "id": "xnQQ-H2-Rk1U"
      },
      "source": [
        "from dtaidistance import dtw, dtw_ndim\n",
        "from dtaidistance import dtw_visualisation as dtwvis\n",
        "import numpy as np\n",
        "import pandas as pd "
      ],
      "execution_count": 15,
      "outputs": []
    },
    {
      "cell_type": "code",
      "metadata": {
        "id": "tFUurXwaR9wP",
        "outputId": "3873deb6-e906-4964-8313-ddcbeaab2387",
        "colab": {
          "base_uri": "https://localhost:8080/"
        }
      },
      "source": [
        "# Fast C version\n",
        "s1 = np.array([0, 0, 1, 2, 1, 0, 1, 0, 0], dtype=np.double)\n",
        "s2 = np.array([0.0, 1, 2, 0, 0, 0, 0, 0, 0], dtype=np.double)\n",
        "d = dtw.distance_fast(s1, s2, use_pruning=True)\n",
        "print(d)"
      ],
      "execution_count": 22,
      "outputs": [
        {
          "output_type": "stream",
          "text": [
            "1.4142135623730951\n"
          ],
          "name": "stdout"
        }
      ]
    },
    {
      "cell_type": "code",
      "metadata": {
        "id": "U0vAKdPQRp8n",
        "outputId": "be17f16f-86e6-4874-fd4e-e540a4f08577",
        "colab": {
          "base_uri": "https://localhost:8080/"
        }
      },
      "source": [
        "s1 = np.array([[0, 0],\n",
        "               [0, 1],\n",
        "               [2, 1],\n",
        "               [0, .5],\n",
        "               [0, 0]], dtype=np.double)\n",
        "s2 = np.array([[0, 0],\n",
        "               [2, 1],\n",
        "               [8, 1],\n",
        "               [10, 0]], dtype=np.double)\n",
        "d = dtw_ndim.distance(s1, s2, use_pruning=True)\n",
        "\n",
        "print(d)"
      ],
      "execution_count": 36,
      "outputs": [
        {
          "output_type": "stream",
          "text": [
            "12.854960132182441\n"
          ],
          "name": "stdout"
        }
      ]
    },
    {
      "cell_type": "code",
      "metadata": {
        "id": "5Goqx2EiSHaa"
      },
      "source": [
        "from dtaidistance import dtw_ndim\n",
        "\n",
        "def nDTW(s1,s2):\n",
        "  \"\"\"\n",
        "  Normalized Dynamic Time Warping as in \"G.Ilharco et al. 2019\"\n",
        "    s1 = sequence 1 \n",
        "    s2 = sequence 2 \n",
        "    d_th = success distance threshold\n",
        "  \n",
        "  \"\"\"\n",
        "  norm_ = s1.shape[0] #mmmh\n",
        "  DTW = dtw_ndim.distance(s1, s2, use_pruning= True, use_c=True)\n",
        "  d_th = 0.01#(norm_ + s2.shape[0])/2\n",
        "\n",
        "  return np.exp(-(DTW)/(norm_*d_th))"
      ],
      "execution_count": 128,
      "outputs": []
    },
    {
      "cell_type": "code",
      "metadata": {
        "id": "wx7shK9AVolO",
        "outputId": "505d2e09-4324-429c-d520-116cce5ba4b0",
        "colab": {
          "base_uri": "https://localhost:8080/"
        }
      },
      "source": [
        "nDTW(seq2,seq3)"
      ],
      "execution_count": 129,
      "outputs": [
        {
          "output_type": "stream",
          "text": [
            "/usr/local/lib/python3.6/dist-packages/ipykernel_launcher.py:15: RuntimeWarning: overflow encountered in exp\n",
            "  from ipykernel import kernelapp as app\n"
          ],
          "name": "stderr"
        },
        {
          "output_type": "execute_result",
          "data": {
            "text/plain": [
              "array([ 0., inf])"
            ]
          },
          "metadata": {
            "tags": []
          },
          "execution_count": 129
        }
      ]
    },
    {
      "cell_type": "code",
      "metadata": {
        "id": "W-tFF56qVqx1",
        "outputId": "9456f897-0c6a-42ba-ed11-e83b78bb789b",
        "colab": {
          "base_uri": "https://localhost:8080/"
        }
      },
      "source": [
        "from google.colab import drive\n",
        "drive.mount('/content/drive')"
      ],
      "execution_count": 41,
      "outputs": [
        {
          "output_type": "stream",
          "text": [
            "Mounted at /content/drive\n"
          ],
          "name": "stdout"
        }
      ]
    },
    {
      "cell_type": "code",
      "metadata": {
        "id": "69Oab2mfW8fM"
      },
      "source": [
        "path_to_files = \"drive/MyDrive/JamesSimoneSpatial/TrackFilesCue/CueCsv/Track/\""
      ],
      "execution_count": 50,
      "outputs": []
    },
    {
      "cell_type": "code",
      "metadata": {
        "id": "_V9QEwNsdBO7"
      },
      "source": [
        "#!ls drive/MyDrive/JamesSimoneSpatial/TrackFilesCue/CueCsv/Track/"
      ],
      "execution_count": 121,
      "outputs": []
    },
    {
      "cell_type": "code",
      "metadata": {
        "id": "x5_nDGQxXgUT"
      },
      "source": [
        "seq1 = pd.read_csv(path_to_files + \"C02A2_Track.csv\", header = None)\n",
        "seq1 = seq1.loc[:,1:2]\n",
        "#seq1.head()\n",
        "seq1 = seq1.values.astype(np.double)"
      ],
      "execution_count": 92,
      "outputs": []
    },
    {
      "cell_type": "code",
      "metadata": {
        "id": "JI2sa3aBXnlX"
      },
      "source": [
        "seq2 = pd.read_csv(path_to_files + \"C02A3_Track.csv\", header = None)\n",
        "seq2 = seq2.loc[:,1:2]\n",
        "#seq2.head()\n",
        "seq2 = seq2.values.astype(np.double)"
      ],
      "execution_count": 93,
      "outputs": []
    },
    {
      "cell_type": "code",
      "metadata": {
        "id": "_bV8UPtZc84M"
      },
      "source": [
        "seq3 = pd.read_csv(path_to_files + \"C14C3_Track.csv\", header = None)\n",
        "seq3 = seq3.loc[:,1:2]\n",
        "#seq2.head()\n",
        "seq3 = seq3.values.astype(np.double)"
      ],
      "execution_count": 109,
      "outputs": []
    },
    {
      "cell_type": "code",
      "metadata": {
        "id": "WyQ2JN6sc8_s",
        "outputId": "7f3e05cb-093f-4344-9b9e-2672ae5fad65",
        "colab": {
          "base_uri": "https://localhost:8080/"
        }
      },
      "source": [
        "nDTW(seq1, seq2)"
      ],
      "execution_count": 120,
      "outputs": [
        {
          "output_type": "execute_result",
          "data": {
            "text/plain": [
              "0.41259763822899354"
            ]
          },
          "metadata": {
            "tags": []
          },
          "execution_count": 120
        }
      ]
    },
    {
      "cell_type": "code",
      "metadata": {
        "id": "T6J2zVkkX7NN",
        "outputId": "2adb6d52-7eb0-4c51-bd14-77669497757e",
        "colab": {
          "base_uri": "https://localhost:8080/"
        }
      },
      "source": [
        "dtw_ndim.distance(seq1, seq2, use_c = True, use_pruning= True)"
      ],
      "execution_count": 115,
      "outputs": [
        {
          "output_type": "execute_result",
          "data": {
            "text/plain": [
              "54.94062589785752"
            ]
          },
          "metadata": {
            "tags": []
          },
          "execution_count": 115
        }
      ]
    },
    {
      "cell_type": "code",
      "metadata": {
        "id": "-1iL830FdXFR",
        "outputId": "796bdb1c-53e6-414e-fea8-6675508e176e",
        "colab": {
          "base_uri": "https://localhost:8080/"
        }
      },
      "source": [
        "dtw_ndim.distance(seq, seq3, use_c = True, use_pruning= True)"
      ],
      "execution_count": 124,
      "outputs": [
        {
          "output_type": "execute_result",
          "data": {
            "text/plain": [
              "21.379810732922554"
            ]
          },
          "metadata": {
            "tags": []
          },
          "execution_count": 124
        }
      ]
    },
    {
      "cell_type": "code",
      "metadata": {
        "id": "Q-XjawrzYHVP",
        "outputId": "09c3a282-cd14-4593-a879-0a27360ddda7",
        "colab": {
          "base_uri": "https://localhost:8080/"
        }
      },
      "source": [
        "print(seq1.shape, seq2.shape)"
      ],
      "execution_count": 95,
      "outputs": [
        {
          "output_type": "stream",
          "text": [
            "(6206, 2) (22041, 2)\n"
          ],
          "name": "stdout"
        }
      ]
    },
    {
      "cell_type": "code",
      "metadata": {
        "id": "iMzS6xJsZnzy"
      },
      "source": [
        ""
      ],
      "execution_count": null,
      "outputs": []
    }
  ]
}