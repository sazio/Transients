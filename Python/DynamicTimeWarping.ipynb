{
  "nbformat": 4,
  "nbformat_minor": 0,
  "metadata": {
    "colab": {
      "name": "DynamicTimeWarping.ipynb",
      "provenance": [],
      "authorship_tag": "ABX9TyPtUJIUSxhYIr8SS8e4XcrM",
      "include_colab_link": true
    },
    "kernelspec": {
      "name": "python3",
      "display_name": "Python 3"
    }
  },
  "cells": [
    {
      "cell_type": "markdown",
      "metadata": {
        "id": "view-in-github",
        "colab_type": "text"
      },
      "source": [
        "<a href=\"https://colab.research.google.com/github/sazio/Transients/blob/master/Python/DynamicTimeWarping.ipynb\" target=\"_parent\"><img src=\"https://colab.research.google.com/assets/colab-badge.svg\" alt=\"Open In Colab\"/></a>"
      ]
    },
    {
      "cell_type": "code",
      "metadata": {
        "id": "vj4D9l02RhLN",
        "outputId": "f4de2383-2fa1-4656-bea8-1c132b50fd45",
        "colab": {
          "base_uri": "https://localhost:8080/"
        }
      },
      "source": [
        "!pip install dtaidistance"
      ],
      "execution_count": 3,
      "outputs": [
        {
          "output_type": "stream",
          "text": [
            "Collecting dtaidistance\n",
            "\u001b[?25l  Downloading https://files.pythonhosted.org/packages/0f/2a/b77d60c493b109824ebe239eb48a0868c9c36b61eef9c188e11e66639a58/dtaidistance-2.1.2.tar.gz (752kB)\n",
            "\r\u001b[K     |▍                               | 10kB 16.4MB/s eta 0:00:01\r\u001b[K     |▉                               | 20kB 21.2MB/s eta 0:00:01\r\u001b[K     |█▎                              | 30kB 10.6MB/s eta 0:00:01\r\u001b[K     |█▊                              | 40kB 8.6MB/s eta 0:00:01\r\u001b[K     |██▏                             | 51kB 4.4MB/s eta 0:00:01\r\u001b[K     |██▋                             | 61kB 5.0MB/s eta 0:00:01\r\u001b[K     |███                             | 71kB 5.0MB/s eta 0:00:01\r\u001b[K     |███▌                            | 81kB 5.3MB/s eta 0:00:01\r\u001b[K     |████                            | 92kB 5.7MB/s eta 0:00:01\r\u001b[K     |████▍                           | 102kB 6.0MB/s eta 0:00:01\r\u001b[K     |████▉                           | 112kB 6.0MB/s eta 0:00:01\r\u001b[K     |█████▎                          | 122kB 6.0MB/s eta 0:00:01\r\u001b[K     |█████▋                          | 133kB 6.0MB/s eta 0:00:01\r\u001b[K     |██████                          | 143kB 6.0MB/s eta 0:00:01\r\u001b[K     |██████▌                         | 153kB 6.0MB/s eta 0:00:01\r\u001b[K     |███████                         | 163kB 6.0MB/s eta 0:00:01\r\u001b[K     |███████▍                        | 174kB 6.0MB/s eta 0:00:01\r\u001b[K     |███████▉                        | 184kB 6.0MB/s eta 0:00:01\r\u001b[K     |████████▎                       | 194kB 6.0MB/s eta 0:00:01\r\u001b[K     |████████▊                       | 204kB 6.0MB/s eta 0:00:01\r\u001b[K     |█████████▏                      | 215kB 6.0MB/s eta 0:00:01\r\u001b[K     |█████████▋                      | 225kB 6.0MB/s eta 0:00:01\r\u001b[K     |██████████                      | 235kB 6.0MB/s eta 0:00:01\r\u001b[K     |██████████▌                     | 245kB 6.0MB/s eta 0:00:01\r\u001b[K     |███████████                     | 256kB 6.0MB/s eta 0:00:01\r\u001b[K     |███████████▎                    | 266kB 6.0MB/s eta 0:00:01\r\u001b[K     |███████████▊                    | 276kB 6.0MB/s eta 0:00:01\r\u001b[K     |████████████▏                   | 286kB 6.0MB/s eta 0:00:01\r\u001b[K     |████████████▋                   | 296kB 6.0MB/s eta 0:00:01\r\u001b[K     |█████████████                   | 307kB 6.0MB/s eta 0:00:01\r\u001b[K     |█████████████▌                  | 317kB 6.0MB/s eta 0:00:01\r\u001b[K     |██████████████                  | 327kB 6.0MB/s eta 0:00:01\r\u001b[K     |██████████████▍                 | 337kB 6.0MB/s eta 0:00:01\r\u001b[K     |██████████████▉                 | 348kB 6.0MB/s eta 0:00:01\r\u001b[K     |███████████████▎                | 358kB 6.0MB/s eta 0:00:01\r\u001b[K     |███████████████▊                | 368kB 6.0MB/s eta 0:00:01\r\u001b[K     |████████████████▏               | 378kB 6.0MB/s eta 0:00:01\r\u001b[K     |████████████████▌               | 389kB 6.0MB/s eta 0:00:01\r\u001b[K     |█████████████████               | 399kB 6.0MB/s eta 0:00:01\r\u001b[K     |█████████████████▍              | 409kB 6.0MB/s eta 0:00:01\r\u001b[K     |█████████████████▉              | 419kB 6.0MB/s eta 0:00:01\r\u001b[K     |██████████████████▎             | 430kB 6.0MB/s eta 0:00:01\r\u001b[K     |██████████████████▊             | 440kB 6.0MB/s eta 0:00:01\r\u001b[K     |███████████████████▏            | 450kB 6.0MB/s eta 0:00:01\r\u001b[K     |███████████████████▋            | 460kB 6.0MB/s eta 0:00:01\r\u001b[K     |████████████████████            | 471kB 6.0MB/s eta 0:00:01\r\u001b[K     |████████████████████▌           | 481kB 6.0MB/s eta 0:00:01\r\u001b[K     |█████████████████████           | 491kB 6.0MB/s eta 0:00:01\r\u001b[K     |█████████████████████▍          | 501kB 6.0MB/s eta 0:00:01\r\u001b[K     |█████████████████████▉          | 512kB 6.0MB/s eta 0:00:01\r\u001b[K     |██████████████████████▏         | 522kB 6.0MB/s eta 0:00:01\r\u001b[K     |██████████████████████▋         | 532kB 6.0MB/s eta 0:00:01\r\u001b[K     |███████████████████████         | 542kB 6.0MB/s eta 0:00:01\r\u001b[K     |███████████████████████▌        | 552kB 6.0MB/s eta 0:00:01\r\u001b[K     |████████████████████████        | 563kB 6.0MB/s eta 0:00:01\r\u001b[K     |████████████████████████▍       | 573kB 6.0MB/s eta 0:00:01\r\u001b[K     |████████████████████████▉       | 583kB 6.0MB/s eta 0:00:01\r\u001b[K     |█████████████████████████▎      | 593kB 6.0MB/s eta 0:00:01\r\u001b[K     |█████████████████████████▊      | 604kB 6.0MB/s eta 0:00:01\r\u001b[K     |██████████████████████████▏     | 614kB 6.0MB/s eta 0:00:01\r\u001b[K     |██████████████████████████▋     | 624kB 6.0MB/s eta 0:00:01\r\u001b[K     |███████████████████████████     | 634kB 6.0MB/s eta 0:00:01\r\u001b[K     |███████████████████████████▌    | 645kB 6.0MB/s eta 0:00:01\r\u001b[K     |███████████████████████████▉    | 655kB 6.0MB/s eta 0:00:01\r\u001b[K     |████████████████████████████▎   | 665kB 6.0MB/s eta 0:00:01\r\u001b[K     |████████████████████████████▊   | 675kB 6.0MB/s eta 0:00:01\r\u001b[K     |█████████████████████████████▏  | 686kB 6.0MB/s eta 0:00:01\r\u001b[K     |█████████████████████████████▋  | 696kB 6.0MB/s eta 0:00:01\r\u001b[K     |██████████████████████████████  | 706kB 6.0MB/s eta 0:00:01\r\u001b[K     |██████████████████████████████▌ | 716kB 6.0MB/s eta 0:00:01\r\u001b[K     |███████████████████████████████ | 727kB 6.0MB/s eta 0:00:01\r\u001b[K     |███████████████████████████████▍| 737kB 6.0MB/s eta 0:00:01\r\u001b[K     |███████████████████████████████▉| 747kB 6.0MB/s eta 0:00:01\r\u001b[K     |████████████████████████████████| 757kB 6.0MB/s \n",
            "\u001b[?25hRequirement already satisfied: cython in /usr/local/lib/python3.6/dist-packages (from dtaidistance) (0.29.21)\n",
            "Building wheels for collected packages: dtaidistance\n",
            "  Building wheel for dtaidistance (setup.py) ... \u001b[?25l\u001b[?25hdone\n",
            "  Created wheel for dtaidistance: filename=dtaidistance-2.1.2-cp36-cp36m-linux_x86_64.whl size=1446280 sha256=0e068891244f062c5288beb383794c1da225fc1576ef385f58ceb91716bfd259\n",
            "  Stored in directory: /root/.cache/pip/wheels/d6/2c/9e/ed7ddb5538a7f3eab7b743e657f539260c46252c330ee0180e\n",
            "Successfully built dtaidistance\n",
            "Installing collected packages: dtaidistance\n",
            "Successfully installed dtaidistance-2.1.2\n"
          ],
          "name": "stdout"
        }
      ]
    },
    {
      "cell_type": "code",
      "metadata": {
        "id": "xnQQ-H2-Rk1U"
      },
      "source": [
        "from dtaidistance import dtw, dtw_ndim\n",
        "from dtaidistance import dtw_visualisation as dtwvis\n",
        "import numpy as np"
      ],
      "execution_count": 15,
      "outputs": []
    },
    {
      "cell_type": "code",
      "metadata": {
        "id": "tFUurXwaR9wP",
        "outputId": "3873deb6-e906-4964-8313-ddcbeaab2387",
        "colab": {
          "base_uri": "https://localhost:8080/"
        }
      },
      "source": [
        "# Fast C version\n",
        "s1 = np.array([0, 0, 1, 2, 1, 0, 1, 0, 0], dtype=np.double)\n",
        "s2 = np.array([0.0, 1, 2, 0, 0, 0, 0, 0, 0], dtype=np.double)\n",
        "d = dtw.distance_fast(s1, s2, use_pruning=True)\n",
        "print(d)"
      ],
      "execution_count": 22,
      "outputs": [
        {
          "output_type": "stream",
          "text": [
            "1.4142135623730951\n"
          ],
          "name": "stdout"
        }
      ]
    },
    {
      "cell_type": "code",
      "metadata": {
        "id": "U0vAKdPQRp8n",
        "outputId": "be17f16f-86e6-4874-fd4e-e540a4f08577",
        "colab": {
          "base_uri": "https://localhost:8080/"
        }
      },
      "source": [
        "s1 = np.array([[0, 0],\n",
        "               [0, 1],\n",
        "               [2, 1],\n",
        "               [0, .5],\n",
        "               [0, 0]], dtype=np.double)\n",
        "s2 = np.array([[0, 0],\n",
        "               [2, 1],\n",
        "               [8, 1],\n",
        "               [10, 0]], dtype=np.double)\n",
        "d = dtw_ndim.distance(s1, s2, use_pruning=True)\n",
        "\n",
        "print(d)"
      ],
      "execution_count": 36,
      "outputs": [
        {
          "output_type": "stream",
          "text": [
            "12.854960132182441\n"
          ],
          "name": "stdout"
        }
      ]
    },
    {
      "cell_type": "code",
      "metadata": {
        "id": "5Goqx2EiSHaa"
      },
      "source": [
        "from dtaidistance import dtw_ndim\n",
        "\n",
        "def nDTW(s1,s2):\n",
        "  \"\"\"\n",
        "  Normalized Dynamic Time Warping as in \"G.Ilharco et al. 2019\"\n",
        "    s1 = sequence 1 \n",
        "    s2 = sequence 2 \n",
        "    d_th = success distance threshold\n",
        "  \n",
        "  \"\"\"\n",
        "  norm_ = s1.shape[0]\n",
        "  DTW = dtw_ndim.distance(s1, s2, use_pruning= True)\n",
        "  d_th = norm_\n",
        "  \n",
        "  return np.exp(-(DTW)/(norm_*d_th))\n",
        "\n",
        "\n",
        "  "
      ],
      "execution_count": 39,
      "outputs": []
    },
    {
      "cell_type": "code",
      "metadata": {
        "id": "wx7shK9AVolO",
        "outputId": "86c884ec-d979-4f42-8348-bfe51fd12d0e",
        "colab": {
          "base_uri": "https://localhost:8080/"
        }
      },
      "source": [
        "nDTW(s1,s2)"
      ],
      "execution_count": 40,
      "outputs": [
        {
          "output_type": "execute_result",
          "data": {
            "text/plain": [
              "0.597979739950246"
            ]
          },
          "metadata": {
            "tags": []
          },
          "execution_count": 40
        }
      ]
    },
    {
      "cell_type": "code",
      "metadata": {
        "id": "W-tFF56qVqx1"
      },
      "source": [
        ""
      ],
      "execution_count": null,
      "outputs": []
    }
  ]
}