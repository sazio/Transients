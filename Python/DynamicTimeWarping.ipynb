{
  "nbformat": 4,
  "nbformat_minor": 0,
  "metadata": {
    "colab": {
      "name": "DynamicTimeWarping.ipynb",
      "provenance": [],
      "collapsed_sections": [],
      "authorship_tag": "ABX9TyMUU4Q9bPry/HJuFaFUSyIm",
      "include_colab_link": true
    },
    "kernelspec": {
      "name": "python3",
      "display_name": "Python 3"
    }
  },
  "cells": [
    {
      "cell_type": "markdown",
      "metadata": {
        "id": "view-in-github",
        "colab_type": "text"
      },
      "source": [
        "<a href=\"https://colab.research.google.com/github/sazio/Transients/blob/master/Python/DynamicTimeWarping.ipynb\" target=\"_parent\"><img src=\"https://colab.research.google.com/assets/colab-badge.svg\" alt=\"Open In Colab\"/></a>"
      ]
    },
    {
      "cell_type": "code",
      "metadata": {
        "id": "vj4D9l02RhLN",
        "outputId": "54228093-a6bb-43e5-9ed5-16feb49709a6",
        "colab": {
          "base_uri": "https://localhost:8080/"
        }
      },
      "source": [
        "!pip install dtaidistance\n",
        "!pip install traja\n"
      ],
      "execution_count": 52,
      "outputs": [
        {
          "output_type": "stream",
          "text": [
            "Requirement already satisfied: dtaidistance in /usr/local/lib/python3.6/dist-packages (2.1.2)\n",
            "Requirement already satisfied: cython in /usr/local/lib/python3.6/dist-packages (from dtaidistance) (0.29.21)\n",
            "Requirement already satisfied: traja in /usr/local/lib/python3.6/dist-packages (0.2.3)\n",
            "Requirement already satisfied: matplotlib in /usr/local/lib/python3.6/dist-packages (from traja) (3.2.2)\n",
            "Requirement already satisfied: pandas in /usr/local/lib/python3.6/dist-packages (from traja) (1.1.4)\n",
            "Requirement already satisfied: scipy in /usr/local/lib/python3.6/dist-packages (from traja) (1.4.1)\n",
            "Requirement already satisfied: tzlocal in /usr/local/lib/python3.6/dist-packages (from traja) (1.5.1)\n",
            "Requirement already satisfied: shapely in /usr/local/lib/python3.6/dist-packages (from traja) (1.7.1)\n",
            "Requirement already satisfied: numpy in /usr/local/lib/python3.6/dist-packages (from traja) (1.18.5)\n",
            "Requirement already satisfied: pyparsing!=2.0.4,!=2.1.2,!=2.1.6,>=2.0.1 in /usr/local/lib/python3.6/dist-packages (from matplotlib->traja) (2.4.7)\n",
            "Requirement already satisfied: python-dateutil>=2.1 in /usr/local/lib/python3.6/dist-packages (from matplotlib->traja) (2.8.1)\n",
            "Requirement already satisfied: kiwisolver>=1.0.1 in /usr/local/lib/python3.6/dist-packages (from matplotlib->traja) (1.3.1)\n",
            "Requirement already satisfied: cycler>=0.10 in /usr/local/lib/python3.6/dist-packages (from matplotlib->traja) (0.10.0)\n",
            "Requirement already satisfied: pytz>=2017.2 in /usr/local/lib/python3.6/dist-packages (from pandas->traja) (2018.9)\n",
            "Requirement already satisfied: six>=1.5 in /usr/local/lib/python3.6/dist-packages (from python-dateutil>=2.1->matplotlib->traja) (1.15.0)\n",
            "\u001b[31mERROR: Could not find a version that satisfies the requirement pylevy (from versions: none)\u001b[0m\n",
            "\u001b[31mERROR: No matching distribution found for pylevy\u001b[0m\n"
          ],
          "name": "stdout"
        }
      ]
    },
    {
      "cell_type": "code",
      "metadata": {
        "id": "ATWHjA-uGaM8",
        "outputId": "19d19ca5-380e-4fac-d3c5-ab0efd210460",
        "colab": {
          "base_uri": "https://localhost:8080/"
        }
      },
      "source": [
        "!wget https://github.com/josemiotto/pylevy\n"
      ],
      "execution_count": 68,
      "outputs": [
        {
          "output_type": "stream",
          "text": [
            "fatal: destination path 'pylevy' already exists and is not an empty directory.\n"
          ],
          "name": "stdout"
        }
      ]
    },
    {
      "cell_type": "code",
      "metadata": {
        "id": "SqQmxO06GzcR",
        "outputId": "3ea744ff-6535-43a2-e60b-28049d6e4a65",
        "colab": {
          "base_uri": "https://localhost:8080/"
        }
      },
      "source": [
        "!ls pylevy"
      ],
      "execution_count": 69,
      "outputs": [
        {
          "output_type": "stream",
          "text": [
            "pylevy\n"
          ],
          "name": "stdout"
        }
      ]
    },
    {
      "cell_type": "code",
      "metadata": {
        "id": "KvT6AN3pGiD0",
        "outputId": "fd9667bc-8df8-4d2d-f13a-b882a4876916",
        "colab": {
          "base_uri": "https://localhost:8080/"
        }
      },
      "source": [
        "!python pylevy/pylevy/setup.py install "
      ],
      "execution_count": 63,
      "outputs": [
        {
          "output_type": "stream",
          "text": [
            "python3: can't open file 'pylevy/pylevy/setup.py': [Errno 20] Not a directory\n"
          ],
          "name": "stdout"
        }
      ]
    },
    {
      "cell_type": "code",
      "metadata": {
        "id": "xnQQ-H2-Rk1U"
      },
      "source": [
        "from dtaidistance import dtw, dtw_ndim\n",
        "from dtaidistance import dtw_visualisation as dtwvis\n",
        "import numpy as np\n",
        "import pandas as pd \n",
        "import traja"
      ],
      "execution_count": 2,
      "outputs": []
    },
    {
      "cell_type": "code",
      "metadata": {
        "id": "tFUurXwaR9wP",
        "colab": {
          "base_uri": "https://localhost:8080/"
        },
        "outputId": "4951592b-1d29-4e4a-9feb-ae92eade8496"
      },
      "source": [
        "# Fast C version\n",
        "s1 = np.array([0, 0, 1, 2, 1, 0, 1, 0, 0], dtype=np.double)\n",
        "s2 = np.array([0.0, 1, 2, 0, 0, 0, 0, 0, 0], dtype=np.double)\n",
        "d = dtw.distance_fast(s1, s2, use_pruning=True)\n",
        "print(d)"
      ],
      "execution_count": 3,
      "outputs": [
        {
          "output_type": "stream",
          "text": [
            "1.4142135623730951\n"
          ],
          "name": "stdout"
        }
      ]
    },
    {
      "cell_type": "code",
      "metadata": {
        "id": "U0vAKdPQRp8n",
        "colab": {
          "base_uri": "https://localhost:8080/"
        },
        "outputId": "52bbfe6d-2957-4510-dcba-bacd35b20ef5"
      },
      "source": [
        "s1 = np.array([[0, 0],\n",
        "               [0, 1],\n",
        "               [2, 1],\n",
        "               [0, .5],\n",
        "               [0, 0]], dtype=np.double)\n",
        "s2 = np.array([[0, 0],\n",
        "               [2, 1],\n",
        "               [8, 1],\n",
        "               [10, 0]], dtype=np.double)\n",
        "d = dtw_ndim.distance(s1, s2, use_pruning=True)\n",
        "\n",
        "print(d)"
      ],
      "execution_count": 4,
      "outputs": [
        {
          "output_type": "stream",
          "text": [
            "12.854960132182441\n"
          ],
          "name": "stdout"
        }
      ]
    },
    {
      "cell_type": "code",
      "metadata": {
        "id": "5Goqx2EiSHaa"
      },
      "source": [
        "from dtaidistance import dtw_ndim\n",
        "\n",
        "def nDTW(s1,s2):\n",
        "  \"\"\"\n",
        "  Normalized Dynamic Time Warping as in \"G.Ilharco et al. 2019\"\n",
        "    s1 = sequence 1 \n",
        "    s2 = sequence 2 \n",
        "    d_th = success distance threshold\n",
        "  \n",
        "  \"\"\"\n",
        "  norm_ = s1.shape[0] #mmmh\n",
        "  DTW = dtw_ndim.distance(s1, s2, use_pruning= True, use_c=True)\n",
        "  d_th = 0.01#(norm_ + s2.shape[0])/2\n",
        "\n",
        "  return np.exp(-(DTW)/(norm_*d_th))"
      ],
      "execution_count": 5,
      "outputs": []
    },
    {
      "cell_type": "code",
      "metadata": {
        "id": "wx7shK9AVolO",
        "colab": {
          "base_uri": "https://localhost:8080/"
        },
        "outputId": "d9099fbc-5b7c-4fd7-ddb0-49e236c0b484"
      },
      "source": [
        "nDTW(s1,s2)"
      ],
      "execution_count": 6,
      "outputs": [
        {
          "output_type": "execute_result",
          "data": {
            "text/plain": [
              "2.2041187555868205e-112"
            ]
          },
          "metadata": {
            "tags": []
          },
          "execution_count": 6
        }
      ]
    },
    {
      "cell_type": "code",
      "metadata": {
        "id": "W-tFF56qVqx1",
        "colab": {
          "base_uri": "https://localhost:8080/"
        },
        "outputId": "db639743-356d-409a-ced6-af4066e16254"
      },
      "source": [
        "from google.colab import drive\n",
        "drive.mount('/content/drive')"
      ],
      "execution_count": 7,
      "outputs": [
        {
          "output_type": "stream",
          "text": [
            "Mounted at /content/drive\n",
            "Drive already mounted at /content/drive; to attempt to forcibly remount, call drive.mount(\"/content/drive\", force_remount=True).\n"
          ],
          "name": "stdout"
        }
      ]
    },
    {
      "cell_type": "code",
      "metadata": {
        "id": "69Oab2mfW8fM"
      },
      "source": [
        "path_to_files = \"drive/MyDrive/JamesSimoneSpatial/TrackFilesCue/CueCsv/Track/\""
      ],
      "execution_count": 9,
      "outputs": []
    },
    {
      "cell_type": "code",
      "metadata": {
        "id": "x5_nDGQxXgUT"
      },
      "source": [
        "seq1 = pd.read_csv(path_to_files + \"C02A2_Track.csv\", header = None)\n",
        "seq1 = seq1.loc[:,1:2]\n",
        "#seq1.head()\n",
        "seq1 = seq1.values.astype(np.double)"
      ],
      "execution_count": 10,
      "outputs": []
    },
    {
      "cell_type": "code",
      "metadata": {
        "id": "JI2sa3aBXnlX"
      },
      "source": [
        "seq2 = pd.read_csv(path_to_files + \"C02A3_Track.csv\", header = None)\n",
        "seq2 = seq2.loc[:,1:2]\n",
        "#seq2.head()\n",
        "seq2 = seq2.values.astype(np.double)"
      ],
      "execution_count": 11,
      "outputs": []
    },
    {
      "cell_type": "code",
      "metadata": {
        "id": "_bV8UPtZc84M"
      },
      "source": [
        "seq3 = pd.read_csv(path_to_files + \"C14C3_Track.csv\", header = None)\n",
        "seq3 = seq3.loc[:,1:2]\n",
        "#seq2.head()\n",
        "seq3 = seq3.values.astype(np.double)"
      ],
      "execution_count": 12,
      "outputs": []
    },
    {
      "cell_type": "code",
      "metadata": {
        "id": "WyQ2JN6sc8_s",
        "colab": {
          "base_uri": "https://localhost:8080/"
        },
        "outputId": "643e2164-e5f0-443a-b75d-9245645ca72b"
      },
      "source": [
        "nDTW(seq1, seq2)"
      ],
      "execution_count": 13,
      "outputs": [
        {
          "output_type": "execute_result",
          "data": {
            "text/plain": [
              "0.41259763822899354"
            ]
          },
          "metadata": {
            "tags": []
          },
          "execution_count": 13
        }
      ]
    },
    {
      "cell_type": "code",
      "metadata": {
        "id": "T6J2zVkkX7NN",
        "colab": {
          "base_uri": "https://localhost:8080/"
        },
        "outputId": "ca78dae4-1f41-4ee7-9f3e-58888d5c1b88"
      },
      "source": [
        "dtw_ndim.distance(seq1, seq2, use_c = True, use_pruning= True)"
      ],
      "execution_count": 14,
      "outputs": [
        {
          "output_type": "execute_result",
          "data": {
            "text/plain": [
              "54.94062589785752"
            ]
          },
          "metadata": {
            "tags": []
          },
          "execution_count": 14
        }
      ]
    },
    {
      "cell_type": "code",
      "metadata": {
        "id": "-1iL830FdXFR",
        "colab": {
          "base_uri": "https://localhost:8080/"
        },
        "outputId": "a4f32768-862f-4430-bbb2-76b90dad0b7b"
      },
      "source": [
        "dtw_ndim.distance(seq2, seq3, use_c = True, use_pruning= True)"
      ],
      "execution_count": 15,
      "outputs": [
        {
          "output_type": "execute_result",
          "data": {
            "text/plain": [
              "54.077343002473484"
            ]
          },
          "metadata": {
            "tags": []
          },
          "execution_count": 15
        }
      ]
    },
    {
      "cell_type": "code",
      "metadata": {
        "id": "epezji3I1Uqv"
      },
      "source": [
        "## Using traja\n",
        "seq1t = traja.TrajaDataFrame(seq1, columns = [\"x\",\"y\"])\n",
        "seq2t = traja.TrajaDataFrame(seq2, columns = [\"x\",\"y\"])\n",
        "seq3t = traja.TrajaDataFrame(seq3, columns = [\"x\",\"y\"])"
      ],
      "execution_count": 16,
      "outputs": []
    },
    {
      "cell_type": "code",
      "metadata": {
        "id": "OapK3o-c1X4_",
        "colab": {
          "base_uri": "https://localhost:8080/",
          "height": 623
        },
        "outputId": "b128e9ef-d516-4f9b-b3f6-54e91040c351"
      },
      "source": [
        "traja.smooth_sg(seq1t).plot(x = \"x\", y = \"y\", figsize = (15,10))"
      ],
      "execution_count": 20,
      "outputs": [
        {
          "output_type": "execute_result",
          "data": {
            "text/plain": [
              "<matplotlib.axes._subplots.AxesSubplot at 0x7f6e64df8198>"
            ]
          },
          "metadata": {
            "tags": []
          },
          "execution_count": 20
        },
        {
          "output_type": "display_data",
          "data": {
            "image/png": "[encoded data removed]",
            "text/plain": [
              "<Figure size 1080x720 with 1 Axes>"
            ]
          },
          "metadata": {
            "tags": [],
            "needs_background": "light"
          }
        }
      ]
    },
    {
      "cell_type": "code",
      "metadata": {
        "id": "9czfhOwd1w7b"
      },
      "source": [
        "#traja.plot_quiver(seq1t, bins=32)"
      ],
      "execution_count": 18,
      "outputs": []
    },
    {
      "cell_type": "code",
      "metadata": {
        "id": "xGe9-kJRDZEU",
        "outputId": "759d47f7-1ca2-4619-cedd-34d0b1f78360",
        "colab": {
          "base_uri": "https://localhost:8080/",
          "height": 282
        }
      },
      "source": [
        "traja.step_lengths(seq1t).hist()"
      ],
      "execution_count": 26,
      "outputs": [
        {
          "output_type": "execute_result",
          "data": {
            "text/plain": [
              "<matplotlib.axes._subplots.AxesSubplot at 0x7f6e621d03c8>"
            ]
          },
          "metadata": {
            "tags": []
          },
          "execution_count": 26
        },
        {
          "output_type": "display_data",
          "data": {
            "image/png": "[encoded data removed]",
            "text/plain": [
              "<Figure size 432x288 with 1 Axes>"
            ]
          },
          "metadata": {
            "tags": [],
            "needs_background": "light"
          }
        }
      ]
    },
    {
      "cell_type": "code",
      "metadata": {
        "id": "RYuG7wJSDkKH",
        "outputId": "b2eb8f3d-64d9-48fb-9065-274c0724f344",
        "colab": {
          "base_uri": "https://localhost:8080/",
          "height": 282
        }
      },
      "source": [
        "traja.step_lengths(seq2t).hist()"
      ],
      "execution_count": 27,
      "outputs": [
        {
          "output_type": "execute_result",
          "data": {
            "text/plain": [
              "<matplotlib.axes._subplots.AxesSubplot at 0x7f6e62152f98>"
            ]
          },
          "metadata": {
            "tags": []
          },
          "execution_count": 27
        },
        {
          "output_type": "display_data",
          "data": {
            "image/png": "[encoded data removed]",
            "text/plain": [
              "<Figure size 432x288 with 1 Axes>"
            ]
          },
          "metadata": {
            "tags": [],
            "needs_background": "light"
          }
        }
      ]
    },
    {
      "cell_type": "code",
      "metadata": {
        "id": "UhJT7G43Dv2Y",
        "outputId": "25791a37-ade4-4ca2-ecf9-104c4ea0b81b",
        "colab": {
          "base_uri": "https://localhost:8080/",
          "height": 282
        }
      },
      "source": [
        "traja.step_lengths(seq3t).hist()"
      ],
      "execution_count": 28,
      "outputs": [
        {
          "output_type": "execute_result",
          "data": {
            "text/plain": [
              "<matplotlib.axes._subplots.AxesSubplot at 0x7f6e635e49b0>"
            ]
          },
          "metadata": {
            "tags": []
          },
          "execution_count": 28
        },
        {
          "output_type": "display_data",
          "data": {
            "image/png": "[encoded data removed]",
            "text/plain": [
              "<Figure size 432x288 with 1 Axes>"
            ]
          },
          "metadata": {
            "tags": [],
            "needs_background": "light"
          }
        }
      ]
    },
    {
      "cell_type": "code",
      "metadata": {
        "id": "E3IALTsjDxbi"
      },
      "source": [
        "import scipy.stats as st\n",
        "import matplotlib.pyplot as plt"
      ],
      "execution_count": 49,
      "outputs": []
    },
    {
      "cell_type": "code",
      "metadata": {
        "id": "BkIbUBi-EKqr"
      },
      "source": [
        "(mu,sigma) = norm.fit(traja.step_lengths(seq1t).dropna())"
      ],
      "execution_count": 42,
      "outputs": []
    },
    {
      "cell_type": "code",
      "metadata": {
        "id": "gJLKnIczF-Vd"
      },
      "source": [
        "points = 1000\n",
        "jennys_constant = 8675309\n",
        "alpha, beta = 1.8, -0.5\n",
        "\n",
        "draw = st.levy_stable.rvs(alpha, beta, size=points, random_state=jennys_constant)\n",
        "print(st.fit_levy)"
      ],
      "execution_count": 51,
      "outputs": []
    },
    {
      "cell_type": "code",
      "metadata": {
        "id": "MRzodO0xEP0i",
        "outputId": "35d8a034-a10d-4e8f-f865-7e020f5f42e0",
        "colab": {
          "base_uri": "https://localhost:8080/"
        }
      },
      "source": [
        "print(mu,sigma)"
      ],
      "execution_count": 43,
      "outputs": [
        {
          "output_type": "stream",
          "text": [
            "0.0008134372868820653 0.0003920219361678116\n"
          ],
          "name": "stdout"
        }
      ]
    },
    {
      "cell_type": "code",
      "metadata": {
        "id": "jKwkV_-fEZHv",
        "outputId": "07f0564a-22b9-4a8e-bad0-923f8a1db472",
        "colab": {
          "base_uri": "https://localhost:8080/",
          "height": 297
        }
      },
      "source": [
        "# the histogram of the data\n",
        "n, bins, patches = plt.hist(traja.step_lengths(seq1t).dropna(), int(np.sqrt(traja.step_lengths(seq1t).dropna().shape[0])), density = True,facecolor='green', alpha=0.55)\n",
        "# add a 'best fit' line\n",
        "y = norm.pdf( bins, mu, sigma)\n",
        "l = plt.plot(bins, y, 'r--', linewidth=2)\n",
        "#plot\n",
        "plt.xlabel('Smarts')\n",
        "plt.ylabel('Probability')\n",
        "plt.title(r'$\\mathrm{Histogram\\ of\\ IQ:}\\ \\mu=%.3f,\\ \\sigma=%.3f$' %(mu, sigma))\n",
        "plt.grid(True)\n",
        "\n",
        "plt.show()\n"
      ],
      "execution_count": 47,
      "outputs": [
        {
          "output_type": "display_data",
          "data": {
            "image/png": "[encoded data removed]",
            "text/plain": [
              "<Figure size 432x288 with 1 Axes>"
            ]
          },
          "metadata": {
            "tags": [],
            "needs_background": "light"
          }
        }
      ]
    },
    {
      "cell_type": "code",
      "metadata": {
        "id": "q_PyZoIdEg8s"
      },
      "source": [
        ""
      ],
      "execution_count": null,
      "outputs": []
    }
  ]
}