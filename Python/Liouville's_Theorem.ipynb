{
  "nbformat": 4,
  "nbformat_minor": 0,
  "metadata": {
    "colab": {
      "name": "Liouville's_Theorem.ipynb",
      "provenance": [],
      "authorship_tag": "ABX9TyPAYVOjlwFMn/p/arRHoaLW",
      "include_colab_link": true
    },
    "kernelspec": {
      "name": "python3",
      "display_name": "Python 3"
    }
  },
  "cells": [
    {
      "cell_type": "markdown",
      "metadata": {
        "id": "view-in-github",
        "colab_type": "text"
      },
      "source": [
        "<a href=\"https://colab.research.google.com/github/sazio/Transients/blob/master/Python/Liouville's_Theorem.ipynb\" target=\"_parent\"><img src=\"https://colab.research.google.com/assets/colab-badge.svg\" alt=\"Open In Colab\"/></a>"
      ]
    },
    {
      "cell_type": "code",
      "metadata": {
        "id": "DZh3lNf_6xrP"
      },
      "source": [
        "from sympy.solvers.pde import pdsolve\n",
        "from sympy import Function, diff, Eq\n",
        "from sympy.abc import x, y, t, a, b "
      ],
      "execution_count": 5,
      "outputs": []
    },
    {
      "cell_type": "code",
      "metadata": {
        "id": "2K8Duclf7H6d"
      },
      "source": [
        "f = Function('f')\n",
        "u = f(x, y)\n",
        "ux = u.diff(x)\n",
        "uy = u.diff(y)\n",
        "#ut = u.diff(t) # only 2-D PDE are supported so far\n",
        "eq = Eq(ux*x - uy*y, 0)"
      ],
      "execution_count": 25,
      "outputs": []
    },
    {
      "cell_type": "code",
      "metadata": {
        "id": "X0CsG58W7H9D",
        "outputId": "1cc7963d-6089-4360-a144-61bca4391812",
        "colab": {
          "base_uri": "https://localhost:8080/"
        }
      },
      "source": [
        "pdsolve(eq)"
      ],
      "execution_count": 26,
      "outputs": [
        {
          "output_type": "execute_result",
          "data": {
            "text/plain": [
              "Eq(f(x, y), F(x*y))"
            ]
          },
          "metadata": {
            "tags": []
          },
          "execution_count": 26
        }
      ]
    },
    {
      "cell_type": "code",
      "metadata": {
        "id": "tjHyS8z27H_M"
      },
      "source": [
        ""
      ],
      "execution_count": null,
      "outputs": []
    },
    {
      "cell_type": "code",
      "metadata": {
        "id": "FneO6riR7IBf"
      },
      "source": [
        ""
      ],
      "execution_count": null,
      "outputs": []
    },
    {
      "cell_type": "code",
      "metadata": {
        "id": "GUE17Bmu7IDw"
      },
      "source": [
        ""
      ],
      "execution_count": null,
      "outputs": []
    }
  ]
}